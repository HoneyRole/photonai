{
 "cells": [
  {
   "cell_type": "code",
   "execution_count": 1,
   "metadata": {
    "collapsed": false,
    "scrolled": true
   },
   "outputs": [
    {
     "name": "stdout",
     "output_type": "stream",
     "text": [
      "[\"god->final_estimator->{'svc__kernel': 'rbf', 'svc__C': 0.20000000000000001}\",\n",
      " 'god->pca->whiten:True',\n",
      " 'god->pca->n_components:None',\n",
      " 'god->pca->disabled:False']\n"
     ]
    },
    {
     "name": "stderr",
     "output_type": "stream",
     "text": [
      "/home/nils/anaconda/lib/python3.5/site-packages/sklearn/metrics/classification.py:1113: UndefinedMetricWarning: F-score is ill-defined and being set to 0.0 due to no predicted samples.\n",
      "  'precision', 'predicted', average, warn_for)\n",
      "/home/nils/anaconda/lib/python3.5/site-packages/sklearn/metrics/classification.py:1113: UndefinedMetricWarning: F-score is ill-defined and being set to 0.0 due to no predicted samples.\n",
      "  'precision', 'predicted', average, warn_for)\n",
      "/home/nils/anaconda/lib/python3.5/site-packages/sklearn/metrics/classification.py:1113: UndefinedMetricWarning: F-score is ill-defined and being set to 0.0 due to no predicted samples.\n",
      "  'precision', 'predicted', average, warn_for)\n"
     ]
    },
    {
     "name": "stdout",
     "output_type": "stream",
     "text": [
      "Performance History:  {'test': 0.61527777777777781, 'train': 0.6152777777777777}\n",
      "[\"god->final_estimator->{'svc__kernel': 'sigmoid', 'svc__C': \"\n",
      " '0.20000000000000001}',\n",
      " 'god->pca->whiten:True',\n",
      " 'god->pca->n_components:None',\n",
      " 'god->pca->disabled:False']\n",
      "Performance History:  {'test': 0.68263888888888891, 'train': 0.6777777777777777}\n",
      "[\"god->final_estimator->{'svc__kernel': 'rbf', 'svc__C': 0.40000000000000002}\",\n",
      " 'god->pca->whiten:True',\n",
      " 'god->pca->n_components:None',\n",
      " 'god->pca->disabled:False']\n",
      "Performance History:  {'test': 0.80347222222222214, 'train': 0.65000000000000002}\n",
      "[\"god->final_estimator->{'svc__kernel': 'sigmoid', 'svc__C': \"\n",
      " '0.40000000000000002}',\n",
      " 'god->pca->whiten:True',\n",
      " 'god->pca->n_components:None',\n",
      " 'god->pca->disabled:False']\n",
      "Performance History:  {'test': 0.75555555555555554, 'train': 0.72499999999999998}\n",
      "[\"god->final_estimator->{'svc__kernel': 'rbf', 'svc__C': 0.60000000000000009}\",\n",
      " 'god->pca->whiten:True',\n",
      " 'god->pca->n_components:None',\n",
      " 'god->pca->disabled:False']\n",
      "Performance History:  {'test': 0.87777777777777777, 'train': 0.69027777777777777}\n",
      "[\"god->final_estimator->{'svc__kernel': 'sigmoid', 'svc__C': \"\n",
      " '0.60000000000000009}',\n",
      " 'god->pca->whiten:True',\n",
      " 'god->pca->n_components:None',\n",
      " 'god->pca->disabled:False']\n",
      "Performance History:  {'test': 0.76250000000000007, 'train': 0.73472222222222217}\n",
      "[\"god->final_estimator->{'svc__kernel': 'rbf', 'svc__C': 0.80000000000000004}\",\n",
      " 'god->pca->whiten:True',\n",
      " 'god->pca->n_components:None',\n",
      " 'god->pca->disabled:False']\n",
      "Performance History:  {'test': 0.90347222222222223, 'train': 0.70138888888888895}\n",
      "[\"god->final_estimator->{'svc__kernel': 'sigmoid', 'svc__C': \"\n",
      " '0.80000000000000004}',\n",
      " 'god->pca->whiten:True',\n",
      " 'god->pca->n_components:None',\n",
      " 'god->pca->disabled:False']\n",
      "Performance History:  {'test': 0.74513888888888891, 'train': 0.73472222222222217}\n",
      "[\"god->final_estimator->{'logistic__C': 0.0001}\",\n",
      " 'god->pca->whiten:True',\n",
      " 'god->pca->n_components:None',\n",
      " 'god->pca->disabled:False']\n",
      "Performance History:  {'test': 0.83680555555555547, 'train': 0.71388888888888891}\n",
      "[\"god->final_estimator->{'logistic__C': 0.01}\",\n",
      " 'god->pca->whiten:True',\n",
      " 'god->pca->n_components:None',\n",
      " 'god->pca->disabled:False']\n",
      "Performance History:  {'test': 0.83472222222222214, 'train': 0.71666666666666667}\n",
      "[\"god->final_estimator->{'logistic__C': 1.0}\",\n",
      " 'god->pca->whiten:True',\n",
      " 'god->pca->n_components:None',\n",
      " 'god->pca->disabled:False']\n",
      "Performance History:  {'test': 0.82777777777777783, 'train': 0.7055555555555556}\n",
      "[\"god->final_estimator->{'logistic__C': 100.0}\",\n",
      " 'god->pca->whiten:True',\n",
      " 'god->pca->n_components:None',\n",
      " 'god->pca->disabled:False']\n",
      "Performance History:  {'test': 0.82708333333333339, 'train': 0.70277777777777783}\n",
      "[\"god->final_estimator->{'logistic__C': 10000.0}\",\n",
      " 'god->pca->whiten:True',\n",
      " 'god->pca->n_components:None',\n",
      " 'god->pca->disabled:False']\n",
      "Performance History:  {'test': 0.82708333333333339, 'train': 0.70138888888888884}\n",
      "[\"god->final_estimator->{'svc__kernel': 'rbf', 'svc__C': 0.20000000000000001}\",\n",
      " 'god->pca->whiten:False',\n",
      " 'god->pca->n_components:None',\n",
      " 'god->pca->disabled:False']\n"
     ]
    },
    {
     "name": "stderr",
     "output_type": "stream",
     "text": [
      "/home/nils/anaconda/lib/python3.5/site-packages/sklearn/metrics/classification.py:1113: UndefinedMetricWarning: F-score is ill-defined and being set to 0.0 due to no predicted samples.\n",
      "  'precision', 'predicted', average, warn_for)\n",
      "/home/nils/anaconda/lib/python3.5/site-packages/sklearn/metrics/classification.py:1113: UndefinedMetricWarning: F-score is ill-defined and being set to 0.0 due to no predicted samples.\n",
      "  'precision', 'predicted', average, warn_for)\n",
      "/home/nils/anaconda/lib/python3.5/site-packages/sklearn/metrics/classification.py:1113: UndefinedMetricWarning: F-score is ill-defined and being set to 0.0 due to no predicted samples.\n",
      "  'precision', 'predicted', average, warn_for)\n"
     ]
    },
    {
     "name": "stdout",
     "output_type": "stream",
     "text": [
      "Performance History:  {'test': 0.61527777777777781, 'train': 0.6152777777777777}\n",
      "[\"god->final_estimator->{'svc__kernel': 'sigmoid', 'svc__C': \"\n",
      " '0.20000000000000001}',\n",
      " 'god->pca->whiten:False',\n",
      " 'god->pca->n_components:None',\n",
      " 'god->pca->disabled:False']\n",
      "Performance History:  {'test': 0.72083333333333321, 'train': 0.70000000000000007}\n",
      "[\"god->final_estimator->{'svc__kernel': 'rbf', 'svc__C': 0.40000000000000002}\",\n",
      " 'god->pca->whiten:False',\n",
      " 'god->pca->n_components:None',\n",
      " 'god->pca->disabled:False']\n"
     ]
    },
    {
     "name": "stderr",
     "output_type": "stream",
     "text": [
      "/home/nils/anaconda/lib/python3.5/site-packages/sklearn/metrics/classification.py:1113: UndefinedMetricWarning: F-score is ill-defined and being set to 0.0 due to no predicted samples.\n",
      "  'precision', 'predicted', average, warn_for)\n",
      "/home/nils/anaconda/lib/python3.5/site-packages/sklearn/metrics/classification.py:1113: UndefinedMetricWarning: F-score is ill-defined and being set to 0.0 due to no predicted samples.\n",
      "  'precision', 'predicted', average, warn_for)\n",
      "/home/nils/anaconda/lib/python3.5/site-packages/sklearn/metrics/classification.py:1113: UndefinedMetricWarning: F-score is ill-defined and being set to 0.0 due to no predicted samples.\n",
      "  'precision', 'predicted', average, warn_for)\n"
     ]
    },
    {
     "name": "stdout",
     "output_type": "stream",
     "text": [
      "Performance History:  {'test': 0.61527777777777781, 'train': 0.6152777777777777}\n",
      "[\"god->final_estimator->{'svc__kernel': 'sigmoid', 'svc__C': \"\n",
      " '0.40000000000000002}',\n",
      " 'god->pca->whiten:False',\n",
      " 'god->pca->n_components:None',\n",
      " 'god->pca->disabled:False']\n",
      "Performance History:  {'test': 0.72916666666666663, 'train': 0.70416666666666661}\n",
      "[\"god->final_estimator->{'svc__kernel': 'rbf', 'svc__C': 0.60000000000000009}\",\n",
      " 'god->pca->whiten:False',\n",
      " 'god->pca->n_components:None',\n",
      " 'god->pca->disabled:False']\n"
     ]
    },
    {
     "name": "stderr",
     "output_type": "stream",
     "text": [
      "/home/nils/anaconda/lib/python3.5/site-packages/sklearn/metrics/classification.py:1113: UndefinedMetricWarning: F-score is ill-defined and being set to 0.0 due to no predicted samples.\n",
      "  'precision', 'predicted', average, warn_for)\n",
      "/home/nils/anaconda/lib/python3.5/site-packages/sklearn/metrics/classification.py:1113: UndefinedMetricWarning: F-score is ill-defined and being set to 0.0 due to no predicted samples.\n",
      "  'precision', 'predicted', average, warn_for)\n",
      "/home/nils/anaconda/lib/python3.5/site-packages/sklearn/metrics/classification.py:1113: UndefinedMetricWarning: F-score is ill-defined and being set to 0.0 due to no predicted samples.\n",
      "  'precision', 'predicted', average, warn_for)\n"
     ]
    },
    {
     "name": "stdout",
     "output_type": "stream",
     "text": [
      "Performance History:  {'test': 0.61527777777777781, 'train': 0.6152777777777777}\n",
      "[\"god->final_estimator->{'svc__kernel': 'sigmoid', 'svc__C': \"\n",
      " '0.60000000000000009}',\n",
      " 'god->pca->whiten:False',\n",
      " 'god->pca->n_components:None',\n",
      " 'god->pca->disabled:False']\n",
      "Performance History:  {'test': 0.72499999999999998, 'train': 0.6972222222222223}\n",
      "[\"god->final_estimator->{'svc__kernel': 'rbf', 'svc__C': 0.80000000000000004}\",\n",
      " 'god->pca->whiten:False',\n",
      " 'god->pca->n_components:None',\n",
      " 'god->pca->disabled:False']\n"
     ]
    },
    {
     "name": "stderr",
     "output_type": "stream",
     "text": [
      "/home/nils/anaconda/lib/python3.5/site-packages/sklearn/metrics/classification.py:1113: UndefinedMetricWarning: F-score is ill-defined and being set to 0.0 due to no predicted samples.\n",
      "  'precision', 'predicted', average, warn_for)\n",
      "/home/nils/anaconda/lib/python3.5/site-packages/sklearn/metrics/classification.py:1113: UndefinedMetricWarning: F-score is ill-defined and being set to 0.0 due to no predicted samples.\n",
      "  'precision', 'predicted', average, warn_for)\n",
      "/home/nils/anaconda/lib/python3.5/site-packages/sklearn/metrics/classification.py:1113: UndefinedMetricWarning: F-score is ill-defined and being set to 0.0 due to no predicted samples.\n",
      "  'precision', 'predicted', average, warn_for)\n"
     ]
    },
    {
     "name": "stdout",
     "output_type": "stream",
     "text": [
      "Performance History:  {'test': 1.0, 'train': 0.6152777777777777}\n",
      "[\"god->final_estimator->{'svc__kernel': 'sigmoid', 'svc__C': \"\n",
      " '0.80000000000000004}',\n",
      " 'god->pca->whiten:False',\n",
      " 'god->pca->n_components:None',\n",
      " 'god->pca->disabled:False']\n",
      "Performance History:  {'test': 0.72499999999999998, 'train': 0.6972222222222223}\n",
      "[\"god->final_estimator->{'logistic__C': 0.0001}\",\n",
      " 'god->pca->whiten:False',\n",
      " 'god->pca->n_components:None',\n",
      " 'god->pca->disabled:False']\n",
      "Performance History:  {'test': 0.72291666666666676, 'train': 0.71527777777777768}\n",
      "[\"god->final_estimator->{'logistic__C': 0.01}\",\n",
      " 'god->pca->whiten:False',\n",
      " 'god->pca->n_components:None',\n",
      " 'god->pca->disabled:False']\n",
      "Performance History:  {'test': 0.7402777777777777, 'train': 0.7402777777777777}\n",
      "[\"god->final_estimator->{'logistic__C': 1.0}\",\n",
      " 'god->pca->whiten:False',\n",
      " 'god->pca->n_components:None',\n",
      " 'god->pca->disabled:False']\n",
      "Performance History:  {'test': 0.76597222222222217, 'train': 0.72916666666666663}\n",
      "[\"god->final_estimator->{'logistic__C': 100.0}\",\n",
      " 'god->pca->whiten:False',\n",
      " 'god->pca->n_components:None',\n",
      " 'god->pca->disabled:False']\n",
      "Performance History:  {'test': 0.76597222222222217, 'train': 0.72916666666666663}\n",
      "[\"god->final_estimator->{'logistic__C': 10000.0}\",\n",
      " 'god->pca->whiten:False',\n",
      " 'god->pca->n_components:None',\n",
      " 'god->pca->disabled:False']\n",
      "Performance History:  {'test': 0.76597222222222217, 'train': 0.72916666666666663}\n",
      "[\"god->final_estimator->{'svc__kernel': 'rbf', 'svc__C': 0.20000000000000001}\",\n",
      " 'god->pca->whiten:True',\n",
      " 'god->pca->n_components:10',\n",
      " 'god->pca->disabled:False']\n",
      "Performance History:  {'test': 0.75277777777777777, 'train': 0.70277777777777783}\n",
      "[\"god->final_estimator->{'svc__kernel': 'sigmoid', 'svc__C': \"\n",
      " '0.20000000000000001}',\n",
      " 'god->pca->whiten:True',\n",
      " 'god->pca->n_components:10',\n",
      " 'god->pca->disabled:False']\n",
      "Performance History:  {'test': 0.73333333333333328, 'train': 0.73888888888888893}\n",
      "[\"god->final_estimator->{'svc__kernel': 'rbf', 'svc__C': 0.40000000000000002}\",\n",
      " 'god->pca->whiten:True',\n",
      " 'god->pca->n_components:10',\n",
      " 'god->pca->disabled:False']\n",
      "Performance History:  {'test': 0.78541666666666676, 'train': 0.71111111111111114}\n",
      "[\"god->final_estimator->{'svc__kernel': 'sigmoid', 'svc__C': \"\n",
      " '0.40000000000000002}',\n",
      " 'god->pca->whiten:True',\n",
      " 'god->pca->n_components:10',\n",
      " 'god->pca->disabled:False']\n",
      "Performance History:  {'test': 0.72986111111111107, 'train': 0.73611111111111105}\n",
      "[\"god->final_estimator->{'svc__kernel': 'rbf', 'svc__C': 0.60000000000000009}\",\n",
      " 'god->pca->whiten:True',\n",
      " 'god->pca->n_components:10',\n",
      " 'god->pca->disabled:False']\n",
      "Performance History:  {'test': 0.79305555555555551, 'train': 0.70972222222222214}\n",
      "[\"god->final_estimator->{'svc__kernel': 'sigmoid', 'svc__C': \"\n",
      " '0.60000000000000009}',\n",
      " 'god->pca->whiten:True',\n",
      " 'god->pca->n_components:10',\n",
      " 'god->pca->disabled:False']\n",
      "Performance History:  {'test': 0.71458333333333324, 'train': 0.72499999999999998}\n",
      "[\"god->final_estimator->{'svc__kernel': 'rbf', 'svc__C': 0.80000000000000004}\",\n",
      " 'god->pca->whiten:True',\n",
      " 'god->pca->n_components:10',\n",
      " 'god->pca->disabled:False']\n",
      "Performance History:  {'test': 0.80208333333333337, 'train': 0.71250000000000002}\n",
      "[\"god->final_estimator->{'svc__kernel': 'sigmoid', 'svc__C': \"\n",
      " '0.80000000000000004}',\n",
      " 'god->pca->whiten:True',\n",
      " 'god->pca->n_components:10',\n",
      " 'god->pca->disabled:False']\n",
      "Performance History:  {'test': 0.69583333333333341, 'train': 0.72500000000000009}\n",
      "[\"god->final_estimator->{'logistic__C': 0.0001}\",\n",
      " 'god->pca->whiten:True',\n",
      " 'god->pca->n_components:10',\n",
      " 'god->pca->disabled:False']\n",
      "Performance History:  {'test': 0.75694444444444431, 'train': 0.72638888888888886}\n",
      "[\"god->final_estimator->{'logistic__C': 0.01}\",\n",
      " 'god->pca->whiten:True',\n",
      " 'god->pca->n_components:10',\n",
      " 'god->pca->disabled:False']\n",
      "Performance History:  {'test': 0.75694444444444431, 'train': 0.72777777777777786}\n",
      "[\"god->final_estimator->{'logistic__C': 1.0}\",\n",
      " 'god->pca->whiten:True',\n",
      " 'god->pca->n_components:10',\n",
      " 'god->pca->disabled:False']\n",
      "Performance History:  {'test': 0.75624999999999998, 'train': 0.72777777777777786}\n",
      "[\"god->final_estimator->{'logistic__C': 100.0}\",\n",
      " 'god->pca->whiten:True',\n",
      " 'god->pca->n_components:10',\n",
      " 'god->pca->disabled:False']\n",
      "Performance History:  {'test': 0.75624999999999998, 'train': 0.72777777777777786}\n",
      "[\"god->final_estimator->{'logistic__C': 10000.0}\",\n",
      " 'god->pca->whiten:True',\n",
      " 'god->pca->n_components:10',\n",
      " 'god->pca->disabled:False']\n",
      "Performance History:  {'test': 0.75624999999999998, 'train': 0.72777777777777786}\n",
      "[\"god->final_estimator->{'svc__kernel': 'rbf', 'svc__C': 0.20000000000000001}\",\n",
      " 'god->pca->whiten:False',\n",
      " 'god->pca->n_components:10',\n",
      " 'god->pca->disabled:False']\n"
     ]
    },
    {
     "name": "stderr",
     "output_type": "stream",
     "text": [
      "/home/nils/anaconda/lib/python3.5/site-packages/sklearn/metrics/classification.py:1113: UndefinedMetricWarning: F-score is ill-defined and being set to 0.0 due to no predicted samples.\n",
      "  'precision', 'predicted', average, warn_for)\n",
      "/home/nils/anaconda/lib/python3.5/site-packages/sklearn/metrics/classification.py:1113: UndefinedMetricWarning: F-score is ill-defined and being set to 0.0 due to no predicted samples.\n",
      "  'precision', 'predicted', average, warn_for)\n",
      "/home/nils/anaconda/lib/python3.5/site-packages/sklearn/metrics/classification.py:1113: UndefinedMetricWarning: F-score is ill-defined and being set to 0.0 due to no predicted samples.\n",
      "  'precision', 'predicted', average, warn_for)\n",
      "/home/nils/anaconda/lib/python3.5/site-packages/sklearn/metrics/classification.py:1113: UndefinedMetricWarning: F-score is ill-defined and being set to 0.0 due to no predicted samples.\n",
      "  'precision', 'predicted', average, warn_for)\n",
      "/home/nils/anaconda/lib/python3.5/site-packages/sklearn/metrics/classification.py:1113: UndefinedMetricWarning: F-score is ill-defined and being set to 0.0 due to no predicted samples.\n",
      "  'precision', 'predicted', average, warn_for)\n"
     ]
    },
    {
     "name": "stdout",
     "output_type": "stream",
     "text": [
      "Performance History:  {'test': 0.61527777777777781, 'train': 0.6152777777777777}\n",
      "[\"god->final_estimator->{'svc__kernel': 'sigmoid', 'svc__C': \"\n",
      " '0.20000000000000001}',\n",
      " 'god->pca->whiten:False',\n",
      " 'god->pca->n_components:10',\n",
      " 'god->pca->disabled:False']\n",
      "Performance History:  {'test': 0.72083333333333321, 'train': 0.70000000000000007}\n",
      "[\"god->final_estimator->{'svc__kernel': 'rbf', 'svc__C': 0.40000000000000002}\",\n",
      " 'god->pca->whiten:False',\n",
      " 'god->pca->n_components:10',\n",
      " 'god->pca->disabled:False']\n",
      "Performance History:  {'test': 0.61527777777777781, 'train': 0.6152777777777777}\n",
      "[\"god->final_estimator->{'svc__kernel': 'sigmoid', 'svc__C': \"\n",
      " '0.40000000000000002}',\n",
      " 'god->pca->whiten:False',\n",
      " 'god->pca->n_components:10',\n",
      " 'god->pca->disabled:False']\n",
      "Performance History:  {'test': 0.72916666666666663, 'train': 0.70416666666666661}\n",
      "[\"god->final_estimator->{'svc__kernel': 'rbf', 'svc__C': 0.60000000000000009}\",\n",
      " 'god->pca->whiten:False',\n",
      " 'god->pca->n_components:10',\n",
      " 'god->pca->disabled:False']\n"
     ]
    },
    {
     "name": "stderr",
     "output_type": "stream",
     "text": [
      "/home/nils/anaconda/lib/python3.5/site-packages/sklearn/metrics/classification.py:1113: UndefinedMetricWarning: F-score is ill-defined and being set to 0.0 due to no predicted samples.\n",
      "  'precision', 'predicted', average, warn_for)\n",
      "/home/nils/anaconda/lib/python3.5/site-packages/sklearn/metrics/classification.py:1113: UndefinedMetricWarning: F-score is ill-defined and being set to 0.0 due to no predicted samples.\n",
      "  'precision', 'predicted', average, warn_for)\n",
      "/home/nils/anaconda/lib/python3.5/site-packages/sklearn/metrics/classification.py:1113: UndefinedMetricWarning: F-score is ill-defined and being set to 0.0 due to no predicted samples.\n",
      "  'precision', 'predicted', average, warn_for)\n",
      "/home/nils/anaconda/lib/python3.5/site-packages/sklearn/metrics/classification.py:1113: UndefinedMetricWarning: F-score is ill-defined and being set to 0.0 due to no predicted samples.\n",
      "  'precision', 'predicted', average, warn_for)\n"
     ]
    },
    {
     "name": "stdout",
     "output_type": "stream",
     "text": [
      "Performance History:  {'test': 0.61527777777777781, 'train': 0.6152777777777777}\n",
      "[\"god->final_estimator->{'svc__kernel': 'sigmoid', 'svc__C': \"\n",
      " '0.60000000000000009}',\n",
      " 'god->pca->whiten:False',\n",
      " 'god->pca->n_components:10',\n",
      " 'god->pca->disabled:False']\n",
      "Performance History:  {'test': 0.72499999999999998, 'train': 0.6972222222222223}\n",
      "[\"god->final_estimator->{'svc__kernel': 'rbf', 'svc__C': 0.80000000000000004}\",\n",
      " 'god->pca->whiten:False',\n",
      " 'god->pca->n_components:10',\n",
      " 'god->pca->disabled:False']\n",
      "Performance History:  {'test': 1.0, 'train': 0.6152777777777777}\n",
      "[\"god->final_estimator->{'svc__kernel': 'sigmoid', 'svc__C': \"\n",
      " '0.80000000000000004}',\n",
      " 'god->pca->whiten:False',\n",
      " 'god->pca->n_components:10',\n",
      " 'god->pca->disabled:False']\n",
      "Performance History:  {'test': 0.72499999999999998, 'train': 0.6972222222222223}\n",
      "[\"god->final_estimator->{'logistic__C': 0.0001}\",\n",
      " 'god->pca->whiten:False',\n",
      " 'god->pca->n_components:10',\n",
      " 'god->pca->disabled:False']\n",
      "Performance History:  {'test': 0.72222222222222221, 'train': 0.71527777777777768}\n",
      "[\"god->final_estimator->{'logistic__C': 0.01}\",\n",
      " 'god->pca->whiten:False',\n",
      " 'god->pca->n_components:10',\n",
      " 'god->pca->disabled:False']"
     ]
    },
    {
     "name": "stderr",
     "output_type": "stream",
     "text": [
      "/home/nils/anaconda/lib/python3.5/site-packages/sklearn/metrics/classification.py:1113: UndefinedMetricWarning: F-score is ill-defined and being set to 0.0 due to no predicted samples.\n",
      "  'precision', 'predicted', average, warn_for)\n",
      "/home/nils/anaconda/lib/python3.5/site-packages/sklearn/metrics/classification.py:1113: UndefinedMetricWarning: F-score is ill-defined and being set to 0.0 due to no predicted samples.\n",
      "  'precision', 'predicted', average, warn_for)\n",
      "/home/nils/anaconda/lib/python3.5/site-packages/sklearn/metrics/classification.py:1113: UndefinedMetricWarning: F-score is ill-defined and being set to 0.0 due to no predicted samples.\n",
      "  'precision', 'predicted', average, warn_for)\n"
     ]
    },
    {
     "name": "stdout",
     "output_type": "stream",
     "text": [
      "\n",
      "Performance History:  {'test': 0.74097222222222225, 'train': 0.73472222222222217}\n",
      "[\"god->final_estimator->{'logistic__C': 1.0}\",\n",
      " 'god->pca->whiten:False',\n",
      " 'god->pca->n_components:10',\n",
      " 'god->pca->disabled:False']\n",
      "Performance History:  {'test': 0.74305555555555569, 'train': 0.7319444444444444}\n",
      "[\"god->final_estimator->{'logistic__C': 100.0}\",\n",
      " 'god->pca->whiten:False',\n",
      " 'god->pca->n_components:10',\n",
      " 'god->pca->disabled:False']\n",
      "Performance History:  {'test': 0.74305555555555569, 'train': 0.7319444444444444}\n",
      "[\"god->final_estimator->{'logistic__C': 10000.0}\",\n",
      " 'god->pca->whiten:False',\n",
      " 'god->pca->n_components:10',\n",
      " 'god->pca->disabled:False']\n",
      "Performance History:  {'test': 0.74305555555555569, 'train': 0.7319444444444444}\n",
      "[\"god->final_estimator->{'svc__kernel': 'rbf', 'svc__C': 0.20000000000000001}\",\n",
      " 'god->pca->whiten:True',\n",
      " 'god->pca->n_components:20',\n",
      " 'god->pca->disabled:False']\n",
      "Performance History:  {'test': 0.72152777777777777, 'train': 0.66666666666666663}\n",
      "[\"god->final_estimator->{'svc__kernel': 'sigmoid', 'svc__C': \"\n",
      " '0.20000000000000001}',\n",
      " 'god->pca->whiten:True',\n",
      " 'god->pca->n_components:20',\n",
      " 'god->pca->disabled:False']\n",
      "Performance History:  {'test': 0.7368055555555556, 'train': 0.7319444444444444}\n",
      "[\"god->final_estimator->{'svc__kernel': 'rbf', 'svc__C': 0.40000000000000002}\",\n",
      " 'god->pca->whiten:True',\n",
      " 'god->pca->n_components:20',\n",
      " 'god->pca->disabled:False']\n",
      "Performance History:  {'test': 0.82152777777777786, 'train': 0.68888888888888877}\n",
      "[\"god->final_estimator->{'svc__kernel': 'sigmoid', 'svc__C': \"\n",
      " '0.40000000000000002}',\n",
      " 'god->pca->whiten:True',\n",
      " 'god->pca->n_components:20',\n",
      " 'god->pca->disabled:False']\n",
      "Performance History:  {'test': 0.72777777777777775, 'train': 0.73611111111111105}\n",
      "[\"god->final_estimator->{'svc__kernel': 'rbf', 'svc__C': 0.60000000000000009}\",\n",
      " 'god->pca->whiten:True',\n",
      " 'god->pca->n_components:20',\n",
      " 'god->pca->disabled:False']\n",
      "Performance History:  {'test': 0.83194444444444449, 'train': 0.69861111111111107}\n",
      "[\"god->final_estimator->{'svc__kernel': 'sigmoid', 'svc__C': \"\n",
      " '0.60000000000000009}',\n",
      " 'god->pca->whiten:True',\n",
      " 'god->pca->n_components:20',\n",
      " 'god->pca->disabled:False']\n",
      "Performance History:  {'test': 0.71388888888888891, 'train': 0.72777777777777786}\n",
      "[\"god->final_estimator->{'svc__kernel': 'rbf', 'svc__C': 0.80000000000000004}\",\n",
      " 'god->pca->whiten:True',\n",
      " 'god->pca->n_components:20',\n",
      " 'god->pca->disabled:False']\n",
      "Performance History:  {'test': 0.84722222222222232, 'train': 0.70416666666666661}\n",
      "[\"god->final_estimator->{'svc__kernel': 'sigmoid', 'svc__C': \"\n",
      " '0.80000000000000004}',\n",
      " 'god->pca->whiten:True',\n",
      " 'god->pca->n_components:20',\n",
      " 'god->pca->disabled:False']\n",
      "Performance History:  {'test': 0.70416666666666661, 'train': 0.72777777777777786}\n",
      "[\"god->final_estimator->{'logistic__C': 0.0001}\",\n",
      " 'god->pca->whiten:True',\n",
      " 'god->pca->n_components:20',\n",
      " 'god->pca->disabled:False']\n",
      "Performance History:  {'test': 0.7631944444444444, 'train': 0.73055555555555551}\n",
      "[\"god->final_estimator->{'logistic__C': 0.01}\",\n",
      " 'god->pca->whiten:True',\n",
      " 'god->pca->n_components:20',\n",
      " 'god->pca->disabled:False']\n",
      "Performance History:  {'test': 0.7631944444444444, 'train': 0.73055555555555551}\n",
      "[\"god->final_estimator->{'logistic__C': 1.0}\",\n",
      " 'god->pca->whiten:True',\n",
      " 'god->pca->n_components:20',\n",
      " 'god->pca->disabled:False']\n",
      "Performance History:  {'test': 0.76944444444444438, 'train': 0.73055555555555551}\n",
      "[\"god->final_estimator->{'logistic__C': 100.0}\",\n",
      " 'god->pca->whiten:True',\n",
      " 'god->pca->n_components:20',\n",
      " 'god->pca->disabled:False']\n",
      "Performance History:  {'test': 0.76874999999999993, 'train': 0.7319444444444444}\n",
      "[\"god->final_estimator->{'logistic__C': 10000.0}\",\n",
      " 'god->pca->whiten:True',\n",
      " 'god->pca->n_components:20',\n",
      " 'god->pca->disabled:False']\n",
      "Performance History:  {'test': 0.76944444444444438, 'train': 0.7319444444444444}\n",
      "[\"god->final_estimator->{'svc__kernel': 'rbf', 'svc__C': 0.20000000000000001}\",\n",
      " 'god->pca->whiten:False',\n",
      " 'god->pca->n_components:20',\n",
      " 'god->pca->disabled:False']\n"
     ]
    },
    {
     "name": "stderr",
     "output_type": "stream",
     "text": [
      "/home/nils/anaconda/lib/python3.5/site-packages/sklearn/metrics/classification.py:1113: UndefinedMetricWarning: F-score is ill-defined and being set to 0.0 due to no predicted samples.\n",
      "  'precision', 'predicted', average, warn_for)\n",
      "/home/nils/anaconda/lib/python3.5/site-packages/sklearn/metrics/classification.py:1113: UndefinedMetricWarning: F-score is ill-defined and being set to 0.0 due to no predicted samples.\n",
      "  'precision', 'predicted', average, warn_for)\n",
      "/home/nils/anaconda/lib/python3.5/site-packages/sklearn/metrics/classification.py:1113: UndefinedMetricWarning: F-score is ill-defined and being set to 0.0 due to no predicted samples.\n",
      "  'precision', 'predicted', average, warn_for)\n",
      "/home/nils/anaconda/lib/python3.5/site-packages/sklearn/metrics/classification.py:1113: UndefinedMetricWarning: F-score is ill-defined and being set to 0.0 due to no predicted samples.\n",
      "  'precision', 'predicted', average, warn_for)\n"
     ]
    },
    {
     "name": "stdout",
     "output_type": "stream",
     "text": [
      "Performance History:  {'test': 0.61527777777777781, 'train': 0.6152777777777777}\n",
      "[\"god->final_estimator->{'svc__kernel': 'sigmoid', 'svc__C': \"\n",
      " '0.20000000000000001}',\n",
      " 'god->pca->whiten:False',\n",
      " 'god->pca->n_components:20',\n",
      " 'god->pca->disabled:False']\n",
      "Performance History:  {'test': 0.72083333333333321, 'train': 0.70000000000000007}\n",
      "[\"god->final_estimator->{'svc__kernel': 'rbf', 'svc__C': 0.40000000000000002}\",\n",
      " 'god->pca->whiten:False',\n",
      " 'god->pca->n_components:20',\n",
      " 'god->pca->disabled:False']\n",
      "Performance History:  {'test': 0.61527777777777781, 'train': 0.6152777777777777}\n",
      "[\"god->final_estimator->{'svc__kernel': 'sigmoid', 'svc__C': \"\n",
      " '0.40000000000000002}',\n",
      " 'god->pca->whiten:False',\n",
      " 'god->pca->n_components:20',\n",
      " 'god->pca->disabled:False']\n"
     ]
    },
    {
     "name": "stderr",
     "output_type": "stream",
     "text": [
      "/home/nils/anaconda/lib/python3.5/site-packages/sklearn/metrics/classification.py:1113: UndefinedMetricWarning: F-score is ill-defined and being set to 0.0 due to no predicted samples.\n",
      "  'precision', 'predicted', average, warn_for)\n",
      "/home/nils/anaconda/lib/python3.5/site-packages/sklearn/metrics/classification.py:1113: UndefinedMetricWarning: F-score is ill-defined and being set to 0.0 due to no predicted samples.\n",
      "  'precision', 'predicted', average, warn_for)\n",
      "/home/nils/anaconda/lib/python3.5/site-packages/sklearn/metrics/classification.py:1113: UndefinedMetricWarning: F-score is ill-defined and being set to 0.0 due to no predicted samples.\n",
      "  'precision', 'predicted', average, warn_for)\n",
      "/home/nils/anaconda/lib/python3.5/site-packages/sklearn/metrics/classification.py:1113: UndefinedMetricWarning: F-score is ill-defined and being set to 0.0 due to no predicted samples.\n",
      "  'precision', 'predicted', average, warn_for)\n"
     ]
    },
    {
     "name": "stdout",
     "output_type": "stream",
     "text": [
      "Performance History:  {'test': 0.72916666666666663, 'train': 0.70416666666666661}\n",
      "[\"god->final_estimator->{'svc__kernel': 'rbf', 'svc__C': 0.60000000000000009}\",\n",
      " 'god->pca->whiten:False',\n",
      " 'god->pca->n_components:20',\n",
      " 'god->pca->disabled:False']\n",
      "Performance History:  {'test': 0.61527777777777781, 'train': 0.6152777777777777}\n",
      "[\"god->final_estimator->{'svc__kernel': 'sigmoid', 'svc__C': \"\n",
      " '0.60000000000000009}',\n",
      " 'god->pca->whiten:False',\n",
      " 'god->pca->n_components:20',\n",
      " 'god->pca->disabled:False']\n"
     ]
    },
    {
     "name": "stderr",
     "output_type": "stream",
     "text": [
      "/home/nils/anaconda/lib/python3.5/site-packages/sklearn/metrics/classification.py:1113: UndefinedMetricWarning: F-score is ill-defined and being set to 0.0 due to no predicted samples.\n",
      "  'precision', 'predicted', average, warn_for)\n",
      "/home/nils/anaconda/lib/python3.5/site-packages/sklearn/metrics/classification.py:1113: UndefinedMetricWarning: F-score is ill-defined and being set to 0.0 due to no predicted samples.\n",
      "  'precision', 'predicted', average, warn_for)\n",
      "/home/nils/anaconda/lib/python3.5/site-packages/sklearn/metrics/classification.py:1113: UndefinedMetricWarning: F-score is ill-defined and being set to 0.0 due to no predicted samples.\n",
      "  'precision', 'predicted', average, warn_for)\n",
      "/home/nils/anaconda/lib/python3.5/site-packages/sklearn/metrics/classification.py:1113: UndefinedMetricWarning: F-score is ill-defined and being set to 0.0 due to no predicted samples.\n",
      "  'precision', 'predicted', average, warn_for)\n"
     ]
    },
    {
     "name": "stdout",
     "output_type": "stream",
     "text": [
      "Performance History:  {'test': 0.72499999999999998, 'train': 0.6972222222222223}\n",
      "[\"god->final_estimator->{'svc__kernel': 'rbf', 'svc__C': 0.80000000000000004}\",\n",
      " 'god->pca->whiten:False',\n",
      " 'god->pca->n_components:20',\n",
      " 'god->pca->disabled:False']\n",
      "Performance History:  {'test': 1.0, 'train': 0.6152777777777777}\n",
      "[\"god->final_estimator->{'svc__kernel': 'sigmoid', 'svc__C': \"\n",
      " '0.80000000000000004}',\n",
      " 'god->pca->whiten:False',\n",
      " 'god->pca->n_components:20',\n",
      " 'god->pca->disabled:False']\n",
      "Performance History:  {'test': 0.72499999999999998, 'train': 0.6972222222222223}\n",
      "[\"god->final_estimator->{'logistic__C': 0.0001}\",\n",
      " 'god->pca->whiten:False',\n",
      " 'god->pca->n_components:20',\n",
      " 'god->pca->disabled:False']\n",
      "Performance History:  {'test': 0.72222222222222221, 'train': 0.71527777777777768}\n",
      "[\"god->final_estimator->{'logistic__C': 0.01}\",\n",
      " 'god->pca->whiten:False',\n",
      " 'god->pca->n_components:20',\n",
      " 'god->pca->disabled:False']\n",
      "Performance History:  {'test': 0.74930555555555556, 'train': 0.7402777777777777}\n",
      "[\"god->final_estimator->{'logistic__C': 1.0}\",\n",
      " 'god->pca->whiten:False',\n",
      " 'god->pca->n_components:20',\n",
      " 'god->pca->disabled:False']\n",
      "Performance History:  {'test': 0.75902777777777786, 'train': 0.7319444444444444}\n",
      "[\"god->final_estimator->{'logistic__C': 100.0}\",\n",
      " 'god->pca->whiten:False',\n",
      " 'god->pca->n_components:20',\n",
      " 'god->pca->disabled:False']\n",
      "Performance History:  {'test': 0.7583333333333333, 'train': 0.7319444444444444}\n",
      "[\"god->final_estimator->{'logistic__C': 10000.0}\",\n",
      " 'god->pca->whiten:False',\n",
      " 'god->pca->n_components:20',\n",
      " 'god->pca->disabled:False']\n",
      "Performance History:  {'test': 0.7583333333333333, 'train': 0.7319444444444444}\n",
      "[\"god->final_estimator->{'svc__kernel': 'rbf', 'svc__C': 0.20000000000000001}\",\n",
      " 'god->pca->disabled:True']\n"
     ]
    },
    {
     "name": "stderr",
     "output_type": "stream",
     "text": [
      "/home/nils/anaconda/lib/python3.5/site-packages/sklearn/metrics/classification.py:1113: UndefinedMetricWarning: F-score is ill-defined and being set to 0.0 due to no predicted samples.\n",
      "  'precision', 'predicted', average, warn_for)\n",
      "/home/nils/anaconda/lib/python3.5/site-packages/sklearn/metrics/classification.py:1113: UndefinedMetricWarning: F-score is ill-defined and being set to 0.0 due to no predicted samples.\n",
      "  'precision', 'predicted', average, warn_for)\n",
      "/home/nils/anaconda/lib/python3.5/site-packages/sklearn/metrics/classification.py:1113: UndefinedMetricWarning: F-score is ill-defined and being set to 0.0 due to no predicted samples.\n",
      "  'precision', 'predicted', average, warn_for)\n"
     ]
    },
    {
     "name": "stdout",
     "output_type": "stream",
     "text": [
      "Performance History:  {'test': 0.61527777777777781, 'train': 0.6152777777777777}\n",
      "[\"god->final_estimator->{'svc__kernel': 'sigmoid', 'svc__C': \"\n",
      " '0.20000000000000001}',\n",
      " 'god->pca->disabled:True']\n",
      "Performance History:  {'test': 0.61527777777777781, 'train': 0.6152777777777777}\n",
      "[\"god->final_estimator->{'svc__kernel': 'rbf', 'svc__C': 0.40000000000000002}\",\n",
      " 'god->pca->disabled:True']\n"
     ]
    },
    {
     "name": "stderr",
     "output_type": "stream",
     "text": [
      "/home/nils/anaconda/lib/python3.5/site-packages/sklearn/metrics/classification.py:1113: UndefinedMetricWarning: F-score is ill-defined and being set to 0.0 due to no predicted samples.\n",
      "  'precision', 'predicted', average, warn_for)\n",
      "/home/nils/anaconda/lib/python3.5/site-packages/sklearn/metrics/classification.py:1113: UndefinedMetricWarning: F-score is ill-defined and being set to 0.0 due to no predicted samples.\n",
      "  'precision', 'predicted', average, warn_for)\n",
      "/home/nils/anaconda/lib/python3.5/site-packages/sklearn/metrics/classification.py:1113: UndefinedMetricWarning: F-score is ill-defined and being set to 0.0 due to no predicted samples.\n",
      "  'precision', 'predicted', average, warn_for)\n",
      "/home/nils/anaconda/lib/python3.5/site-packages/sklearn/metrics/classification.py:1113: UndefinedMetricWarning: F-score is ill-defined and being set to 0.0 due to no predicted samples.\n",
      "  'precision', 'predicted', average, warn_for)\n",
      "/home/nils/anaconda/lib/python3.5/site-packages/sklearn/metrics/classification.py:1113: UndefinedMetricWarning: F-score is ill-defined and being set to 0.0 due to no predicted samples.\n",
      "  'precision', 'predicted', average, warn_for)\n",
      "/home/nils/anaconda/lib/python3.5/site-packages/sklearn/metrics/classification.py:1113: UndefinedMetricWarning: F-score is ill-defined and being set to 0.0 due to no predicted samples.\n",
      "  'precision', 'predicted', average, warn_for)\n",
      "/home/nils/anaconda/lib/python3.5/site-packages/sklearn/metrics/classification.py:1113: UndefinedMetricWarning: F-score is ill-defined and being set to 0.0 due to no predicted samples.\n",
      "  'precision', 'predicted', average, warn_for)\n",
      "/home/nils/anaconda/lib/python3.5/site-packages/sklearn/metrics/classification.py:1113: UndefinedMetricWarning: F-score is ill-defined and being set to 0.0 due to no predicted samples.\n",
      "  'precision', 'predicted', average, warn_for)\n"
     ]
    },
    {
     "name": "stdout",
     "output_type": "stream",
     "text": [
      "Performance History:  {'test': 0.61527777777777781, 'train': 0.6152777777777777}\n",
      "[\"god->final_estimator->{'svc__kernel': 'sigmoid', 'svc__C': \"\n",
      " '0.40000000000000002}',\n",
      " 'god->pca->disabled:True']\n",
      "Performance History:  {'test': 0.61527777777777781, 'train': 0.6152777777777777}\n",
      "[\"god->final_estimator->{'svc__kernel': 'rbf', 'svc__C': 0.60000000000000009}\",\n",
      " 'god->pca->disabled:True']\n"
     ]
    },
    {
     "name": "stderr",
     "output_type": "stream",
     "text": [
      "/home/nils/anaconda/lib/python3.5/site-packages/sklearn/metrics/classification.py:1113: UndefinedMetricWarning: F-score is ill-defined and being set to 0.0 due to no predicted samples.\n",
      "  'precision', 'predicted', average, warn_for)\n",
      "/home/nils/anaconda/lib/python3.5/site-packages/sklearn/metrics/classification.py:1113: UndefinedMetricWarning: F-score is ill-defined and being set to 0.0 due to no predicted samples.\n",
      "  'precision', 'predicted', average, warn_for)\n",
      "/home/nils/anaconda/lib/python3.5/site-packages/sklearn/metrics/classification.py:1113: UndefinedMetricWarning: F-score is ill-defined and being set to 0.0 due to no predicted samples.\n",
      "  'precision', 'predicted', average, warn_for)\n",
      "/home/nils/anaconda/lib/python3.5/site-packages/sklearn/metrics/classification.py:1113: UndefinedMetricWarning: F-score is ill-defined and being set to 0.0 due to no predicted samples.\n",
      "  'precision', 'predicted', average, warn_for)\n",
      "/home/nils/anaconda/lib/python3.5/site-packages/sklearn/metrics/classification.py:1113: UndefinedMetricWarning: F-score is ill-defined and being set to 0.0 due to no predicted samples.\n",
      "  'precision', 'predicted', average, warn_for)\n",
      "/home/nils/anaconda/lib/python3.5/site-packages/sklearn/metrics/classification.py:1113: UndefinedMetricWarning: F-score is ill-defined and being set to 0.0 due to no predicted samples.\n",
      "  'precision', 'predicted', average, warn_for)\n",
      "/home/nils/anaconda/lib/python3.5/site-packages/sklearn/metrics/classification.py:1113: UndefinedMetricWarning: F-score is ill-defined and being set to 0.0 due to no predicted samples.\n",
      "  'precision', 'predicted', average, warn_for)\n"
     ]
    },
    {
     "name": "stdout",
     "output_type": "stream",
     "text": [
      "Performance History:  {'test': 0.61527777777777781, 'train': 0.6152777777777777}\n",
      "[\"god->final_estimator->{'svc__kernel': 'sigmoid', 'svc__C': \"\n",
      " '0.60000000000000009}',\n",
      " 'god->pca->disabled:True']\n",
      "Performance History:  {'test': 0.61527777777777781, 'train': 0.6152777777777777}\n",
      "[\"god->final_estimator->{'svc__kernel': 'rbf', 'svc__C': 0.80000000000000004}\",\n",
      " 'god->pca->disabled:True']\n"
     ]
    },
    {
     "name": "stderr",
     "output_type": "stream",
     "text": [
      "/home/nils/anaconda/lib/python3.5/site-packages/sklearn/metrics/classification.py:1113: UndefinedMetricWarning: F-score is ill-defined and being set to 0.0 due to no predicted samples.\n",
      "  'precision', 'predicted', average, warn_for)\n",
      "/home/nils/anaconda/lib/python3.5/site-packages/sklearn/metrics/classification.py:1113: UndefinedMetricWarning: F-score is ill-defined and being set to 0.0 due to no predicted samples.\n",
      "  'precision', 'predicted', average, warn_for)\n",
      "/home/nils/anaconda/lib/python3.5/site-packages/sklearn/metrics/classification.py:1113: UndefinedMetricWarning: F-score is ill-defined and being set to 0.0 due to no predicted samples.\n",
      "  'precision', 'predicted', average, warn_for)\n"
     ]
    },
    {
     "name": "stdout",
     "output_type": "stream",
     "text": [
      "Performance History:  {'test': 1.0, 'train': 0.6152777777777777}\n",
      "[\"god->final_estimator->{'svc__kernel': 'sigmoid', 'svc__C': \"\n",
      " '0.80000000000000004}',\n",
      " 'god->pca->disabled:True']\n",
      "Performance History:  {'test': 0.61527777777777781, 'train': 0.6152777777777777}\n",
      "[\"god->final_estimator->{'logistic__C': 0.0001}\", 'god->pca->disabled:True']\n",
      "Performance History:  {'test': 0.62569444444444444, 'train': 0.62777777777777777}\n",
      "[\"god->final_estimator->{'logistic__C': 0.01}\", 'god->pca->disabled:True']\n",
      "Performance History:  {'test': 0.74305555555555547, 'train': 0.73472222222222217}\n",
      "[\"god->final_estimator->{'logistic__C': 1.0}\", 'god->pca->disabled:True']\n"
     ]
    },
    {
     "name": "stderr",
     "output_type": "stream",
     "text": [
      "/home/nils/anaconda/lib/python3.5/site-packages/sklearn/metrics/classification.py:1113: UndefinedMetricWarning: F-score is ill-defined and being set to 0.0 due to no predicted samples.\n",
      "  'precision', 'predicted', average, warn_for)\n",
      "/home/nils/anaconda/lib/python3.5/site-packages/sklearn/metrics/classification.py:1113: UndefinedMetricWarning: F-score is ill-defined and being set to 0.0 due to no predicted samples.\n",
      "  'precision', 'predicted', average, warn_for)\n",
      "/home/nils/anaconda/lib/python3.5/site-packages/sklearn/metrics/classification.py:1113: UndefinedMetricWarning: F-score is ill-defined and being set to 0.0 due to no predicted samples.\n",
      "  'precision', 'predicted', average, warn_for)\n"
     ]
    },
    {
     "name": "stdout",
     "output_type": "stream",
     "text": [
      "Performance History:  {'test': 0.74861111111111123, 'train': 0.73888888888888893}\n",
      "[\"god->final_estimator->{'logistic__C': 100.0}\", 'god->pca->disabled:True']\n",
      "Performance History:  {'test': 0.74861111111111123, 'train': 0.73888888888888893}\n",
      "[\"god->final_estimator->{'logistic__C': 10000.0}\", 'god->pca->disabled:True']\n",
      "Performance History:  {'test': 0.74861111111111123, 'train': 0.73888888888888893}\n",
      "--------------------------------------------------\n",
      "Best config:  {'final_estimator__current_element': (0, 6), 'pca__whiten': False, 'pca__n_components': None, 'pca__disabled': False}\n",
      "Performance:\n",
      "\n",
      "OrderedDict([('score', {'test': 1.0, 'train': 0.6152777777777777}), ('score_std', {'test': 0.0, 'train': 0.023895347964007302}), ('score_folds', {'test': [1.0, 1.0, 1.0], 'train': [0.64583333333333337, 0.61250000000000004, 0.58750000000000002]}), ('accuracy', {'test': 1.0, 'train': 0.6152777777777777}), ('accuracy_std', {'test': 0.0, 'train': 0.023895347964007302}), ('accuracy_folds', {'test': [1.0, 1.0, 1.0], 'train': [0.64583333333333337, 0.61250000000000004, 0.58750000000000002]}), ('f1', {'test': 1.0, 'train': 0.0}), ('f1_std', {'test': 0.0, 'train': 0.0}), ('f1_folds', {'test': [1.0, 1.0, 1.0], 'train': [0.0, 0.0, 0.0]}), ('n_samples', {'test': [240, 240, 240], 'train': [480, 480, 480]})])\n",
      "Number of tested configurations: 91\n",
      "--------------------------------------------------\n"
     ]
    }
   ],
   "source": [
    "import numpy as np\n",
    "from DataLoading.DataContainer import DataContainer, Features, Covariates, Targets\n",
    "from HPOFramework.HPOBaseClasses import Hyperpipe, PipelineElement, PipelineSwitch\n",
    "from sklearn.model_selection import KFold\n",
    "\n",
    "# Load data\n",
    "data_object = DataContainer()\n",
    "\n",
    "# add values from ENIGMA thickness values to features\n",
    "data_object += Features('EnigmaTestFiles/CorticalMeasuresENIGMA_ThickAvg.csv',\n",
    "                        usecols=np.arange(1, 73), na_values='NA')\n",
    "\n",
    "# try to predict sex, which is column number 4\n",
    "data_object += Targets('EnigmaTestFiles//Covariates.csv', usecols=[4],\n",
    "                       na_values='NA')\n",
    "\n",
    "\n",
    "cv_object = KFold(n_splits=3)\n",
    "\n",
    "manager = Hyperpipe('god', cv_object, metrics=['accuracy', 'f1'])\n",
    "\n",
    "# add a pca analysis, specify hyperparameters to test\n",
    "manager += PipelineElement.create('pca', {'n_components': [None, 10, 20], 'whiten': [True, False]},\n",
    "                                  set_disabled=True)\n",
    "\n",
    "# you can also use a SVC\n",
    "svc_estimator = PipelineElement.create('svc', {'C': np.arange(0.2, 1, 0.2), 'kernel': ['rbf', 'sigmoid']})\n",
    "# or Logistic regression\n",
    "lr_estimator = PipelineElement.create('logistic', {'C': np.logspace(-4, 4, 5)})\n",
    "\n",
    "\n",
    "manager.add(PipelineSwitch('final_estimator', [svc_estimator, lr_estimator]))\n",
    "\n",
    "# optimizes hyperparameters\n",
    "X = data_object.features.values\n",
    "y = np.ravel(data_object.targets.values)\n",
    "manager.fit(X, y)\n",
    "\n",
    "final_predictor = manager.optimum_pipe\n",
    "final_predictor.fit(X, y)\n",
    "prediction = final_predictor.predict(X)"
   ]
  },
  {
   "cell_type": "code",
   "execution_count": 2,
   "metadata": {
    "collapsed": false,
    "scrolled": true
   },
   "outputs": [
    {
     "data": {
      "text/plain": [
       "[0.6152777777777777,\n",
       " 0.6777777777777777,\n",
       " 0.65000000000000002,\n",
       " 0.72499999999999998,\n",
       " 0.69027777777777777,\n",
       " 0.73472222222222217,\n",
       " 0.70138888888888895,\n",
       " 0.73472222222222217,\n",
       " 0.71388888888888891,\n",
       " 0.71666666666666667,\n",
       " 0.7055555555555556,\n",
       " 0.70277777777777783,\n",
       " 0.70138888888888884,\n",
       " 0.6152777777777777,\n",
       " 0.70000000000000007,\n",
       " 0.6152777777777777,\n",
       " 0.70416666666666661,\n",
       " 0.6152777777777777,\n",
       " 0.6972222222222223,\n",
       " 0.6152777777777777,\n",
       " 0.6972222222222223,\n",
       " 0.71527777777777768,\n",
       " 0.7402777777777777,\n",
       " 0.72916666666666663,\n",
       " 0.72916666666666663,\n",
       " 0.72916666666666663,\n",
       " 0.70277777777777783,\n",
       " 0.73888888888888893,\n",
       " 0.71111111111111114,\n",
       " 0.73611111111111105,\n",
       " 0.70972222222222214,\n",
       " 0.72499999999999998,\n",
       " 0.71250000000000002,\n",
       " 0.72500000000000009,\n",
       " 0.72638888888888886,\n",
       " 0.72777777777777786,\n",
       " 0.72777777777777786,\n",
       " 0.72777777777777786,\n",
       " 0.72777777777777786,\n",
       " 0.6152777777777777,\n",
       " 0.70000000000000007,\n",
       " 0.6152777777777777,\n",
       " 0.70416666666666661,\n",
       " 0.6152777777777777,\n",
       " 0.6972222222222223,\n",
       " 0.6152777777777777,\n",
       " 0.6972222222222223,\n",
       " 0.71527777777777768,\n",
       " 0.73472222222222217,\n",
       " 0.7319444444444444,\n",
       " 0.7319444444444444,\n",
       " 0.7319444444444444,\n",
       " 0.66666666666666663,\n",
       " 0.7319444444444444,\n",
       " 0.68888888888888877,\n",
       " 0.73611111111111105,\n",
       " 0.69861111111111107,\n",
       " 0.72777777777777786,\n",
       " 0.70416666666666661,\n",
       " 0.72777777777777786,\n",
       " 0.73055555555555551,\n",
       " 0.73055555555555551,\n",
       " 0.73055555555555551,\n",
       " 0.7319444444444444,\n",
       " 0.7319444444444444,\n",
       " 0.6152777777777777,\n",
       " 0.70000000000000007,\n",
       " 0.6152777777777777,\n",
       " 0.70416666666666661,\n",
       " 0.6152777777777777,\n",
       " 0.6972222222222223,\n",
       " 0.6152777777777777,\n",
       " 0.6972222222222223,\n",
       " 0.71527777777777768,\n",
       " 0.7402777777777777,\n",
       " 0.7319444444444444,\n",
       " 0.7319444444444444,\n",
       " 0.7319444444444444,\n",
       " 0.6152777777777777,\n",
       " 0.6152777777777777,\n",
       " 0.6152777777777777,\n",
       " 0.6152777777777777,\n",
       " 0.6152777777777777,\n",
       " 0.6152777777777777,\n",
       " 0.6152777777777777,\n",
       " 0.6152777777777777,\n",
       " 0.62777777777777777,\n",
       " 0.73472222222222217,\n",
       " 0.73888888888888893,\n",
       " 0.73888888888888893,\n",
       " 0.73888888888888893]"
      ]
     },
     "execution_count": 2,
     "metadata": {},
     "output_type": "execute_result"
    }
   ],
   "source": [
    "manager.performance_history['accuracy']['train']"
   ]
  },
  {
   "cell_type": "code",
   "execution_count": 3,
   "metadata": {
    "collapsed": false
   },
   "outputs": [
    {
     "data": {
      "text/plain": [
       "OrderedDict([('score',\n",
       "              {'test': 0.61527777777777781, 'train': 0.6152777777777777}),\n",
       "             ('score_std',\n",
       "              {'test': 0.011947673982003653, 'train': 0.023895347964007302}),\n",
       "             ('score_folds',\n",
       "              {'test': [0.59999999999999998,\n",
       "                0.6166666666666667,\n",
       "                0.62916666666666665],\n",
       "               'train': [0.64583333333333337,\n",
       "                0.61250000000000004,\n",
       "                0.58750000000000002]}),\n",
       "             ('accuracy',\n",
       "              {'test': 0.61527777777777781, 'train': 0.6152777777777777}),\n",
       "             ('accuracy_std',\n",
       "              {'test': 0.011947673982003653, 'train': 0.023895347964007302}),\n",
       "             ('accuracy_folds',\n",
       "              {'test': [0.59999999999999998,\n",
       "                0.6166666666666667,\n",
       "                0.62916666666666665],\n",
       "               'train': [0.64583333333333337,\n",
       "                0.61250000000000004,\n",
       "                0.58750000000000002]}),\n",
       "             ('f1', {'test': 0.0, 'train': 0.0}),\n",
       "             ('f1_std', {'test': 0.0, 'train': 0.0}),\n",
       "             ('f1_folds', {'test': [0.0, 0.0, 0.0], 'train': [0.0, 0.0, 0.0]}),\n",
       "             ('n_samples',\n",
       "              {'test': [240, 240, 240], 'train': [480, 480, 480]})])"
      ]
     },
     "execution_count": 3,
     "metadata": {},
     "output_type": "execute_result"
    }
   ],
   "source": [
    "manager.performance_history_list[0]"
   ]
  },
  {
   "cell_type": "code",
   "execution_count": 4,
   "metadata": {
    "collapsed": false
   },
   "outputs": [
    {
     "data": {
      "text/plain": [
       "{'final_estimator__current_element': (0, 6),\n",
       " 'pca__disabled': False,\n",
       " 'pca__n_components': None,\n",
       " 'pca__whiten': False}"
      ]
     },
     "execution_count": 4,
     "metadata": {},
     "output_type": "execute_result"
    }
   ],
   "source": [
    "manager.best_config"
   ]
  },
  {
   "cell_type": "code",
   "execution_count": 5,
   "metadata": {
    "collapsed": false
   },
   "outputs": [
    {
     "data": {
      "text/plain": [
       "OrderedDict([('score', {'test': 1.0, 'train': 0.6152777777777777}),\n",
       "             ('score_std', {'test': 0.0, 'train': 0.023895347964007302}),\n",
       "             ('score_folds',\n",
       "              {'test': [1.0, 1.0, 1.0],\n",
       "               'train': [0.64583333333333337,\n",
       "                0.61250000000000004,\n",
       "                0.58750000000000002]}),\n",
       "             ('accuracy', {'test': 1.0, 'train': 0.6152777777777777}),\n",
       "             ('accuracy_std', {'test': 0.0, 'train': 0.023895347964007302}),\n",
       "             ('accuracy_folds',\n",
       "              {'test': [1.0, 1.0, 1.0],\n",
       "               'train': [0.64583333333333337,\n",
       "                0.61250000000000004,\n",
       "                0.58750000000000002]}),\n",
       "             ('f1', {'test': 1.0, 'train': 0.0}),\n",
       "             ('f1_std', {'test': 0.0, 'train': 0.0}),\n",
       "             ('f1_folds', {'test': [1.0, 1.0, 1.0], 'train': [0.0, 0.0, 0.0]}),\n",
       "             ('n_samples',\n",
       "              {'test': [240, 240, 240], 'train': [480, 480, 480]})])"
      ]
     },
     "execution_count": 5,
     "metadata": {},
     "output_type": "execute_result"
    }
   ],
   "source": [
    "manager.best_performance"
   ]
  },
  {
   "cell_type": "code",
   "execution_count": 6,
   "metadata": {
    "collapsed": false
   },
   "outputs": [
    {
     "data": {
      "text/plain": [
       "{'final_estimator': PipelineSwitch(C=0.80000000000000004, cache_size=200, class_weight=None,\n",
       "         coef0=0.0, decision_function_shape=None, degree=3, gamma='auto',\n",
       "         kernel='rbf', max_iter=-1, probability=False, random_state=None,\n",
       "         shrinking=True, tol=0.001, verbose=False),\n",
       " 'final_estimator__C': 0.20000000000000001,\n",
       " 'final_estimator__cache_size': 200,\n",
       " 'final_estimator__class_weight': None,\n",
       " 'final_estimator__coef0': 0.0,\n",
       " 'final_estimator__decision_function_shape': None,\n",
       " 'final_estimator__degree': 3,\n",
       " 'final_estimator__gamma': 'auto',\n",
       " 'final_estimator__kernel': 'rbf',\n",
       " 'final_estimator__max_iter': -1,\n",
       " 'final_estimator__probability': False,\n",
       " 'final_estimator__random_state': None,\n",
       " 'final_estimator__shrinking': True,\n",
       " 'final_estimator__tol': 0.001,\n",
       " 'final_estimator__verbose': False,\n",
       " 'pca': PipelineElement(copy=True, iterated_power='auto', n_components=None,\n",
       "         random_state=None, svd_solver='auto', tol=0.0, whiten=False),\n",
       " 'pca__copy': True,\n",
       " 'pca__iterated_power': 'auto',\n",
       " 'pca__n_components': None,\n",
       " 'pca__random_state': None,\n",
       " 'pca__svd_solver': 'auto',\n",
       " 'pca__tol': 0.0,\n",
       " 'pca__whiten': True,\n",
       " 'steps': [('pca',\n",
       "   PipelineElement(copy=True, iterated_power='auto', n_components=None,\n",
       "           random_state=None, svd_solver='auto', tol=0.0, whiten=False)),\n",
       "  ('final_estimator',\n",
       "   PipelineSwitch(C=0.80000000000000004, cache_size=200, class_weight=None,\n",
       "           coef0=0.0, decision_function_shape=None, degree=3, gamma='auto',\n",
       "           kernel='rbf', max_iter=-1, probability=False, random_state=None,\n",
       "           shrinking=True, tol=0.001, verbose=False))]}"
      ]
     },
     "execution_count": 6,
     "metadata": {},
     "output_type": "execute_result"
    }
   ],
   "source": [
    "manager.parameter_history[0]"
   ]
  },
  {
   "cell_type": "code",
   "execution_count": 7,
   "metadata": {
    "collapsed": false
   },
   "outputs": [
    {
     "data": {
      "text/plain": [
       "{'final_estimator__current_element': (0, 0),\n",
       " 'pca__disabled': False,\n",
       " 'pca__n_components': None,\n",
       " 'pca__whiten': True}"
      ]
     },
     "execution_count": 7,
     "metadata": {},
     "output_type": "execute_result"
    }
   ],
   "source": [
    "manager.config_history[0]"
   ]
  },
  {
   "cell_type": "code",
   "execution_count": null,
   "metadata": {
    "collapsed": true
   },
   "outputs": [],
   "source": [
    ""
   ]
  }
 ],
 "metadata": {
  "kernelspec": {
   "display_name": "Python [conda root]",
   "language": "python",
   "name": "conda-root-py"
  },
  "language_info": {
   "codemirror_mode": {
    "name": "ipython",
    "version": 3.0
   },
   "file_extension": ".py",
   "mimetype": "text/x-python",
   "name": "python",
   "nbconvert_exporter": "python",
   "pygments_lexer": "ipython3",
   "version": "3.5.2"
  }
 },
 "nbformat": 4,
 "nbformat_minor": 0
}