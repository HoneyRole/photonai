{
 "cells": [
  {
   "cell_type": "markdown",
   "metadata": {},
   "source": [
    "# Loading Module Demonstration\n",
    "This Jupyter Notebook explains and demonstrates the structure and function of the loading module. In general, the module divides into five basic classes: \n",
    "\n",
    "#### DataContainer()\n",
    "- The DataContainer class implements a data structure to store features, targets and covariates. \n",
    "- The constructor builds these three data objects (see other classes later). \n",
    "- Additionally, the DataContainer class implements basic methods for adding new data to the data container, for printing summaries and so on.\n",
    "\n",
    "#### BaseObject()\n",
    "- The BaseObject class is a meta class that is used as blue print for the features, targets and covariates classes. As a meta class it is only used for inheritance and is not used directly. \n",
    "- It implements the basic structure of the data objects and all methods that these three data object classes share.\n",
    "\n",
    "#### FeaturesObject(BaseObject), TargetsObject(BaseObject), CovariatesObject(BaseObject)\n",
    "- The FeaturesObject inherits from BaseObject. \n",
    "- It builds the data object for the features and overrides some of the methods in order to adapt to special characteristics of the specific class (for covariates variable names are needed, for features not). \n",
    "\n"
   ]
  },
  {
   "cell_type": "markdown",
   "metadata": {},
   "source": [
    "### Load modules"
   ]
  },
  {
   "cell_type": "code",
   "execution_count": 2,
   "metadata": {
    "collapsed": false
   },
   "outputs": [],
   "source": [
    "from loading import DataContainer\n",
    "import numpy as np\n",
    "import pandas as pd\n",
    "%matplotlib inline"
   ]
  },
  {
   "cell_type": "markdown",
   "metadata": {},
   "source": [
    "### Create some fake data"
   ]
  },
  {
   "cell_type": "code",
   "execution_count": 16,
   "metadata": {
    "collapsed": true
   },
   "outputs": [],
   "source": [
    "# Create some data\n",
    "data = np.random.rand(100,2000)\n",
    "IQ = np.random.randint(70,130,100)\n",
    "age = np.random.randint(18,80,100)\n",
    "gender = np.random.randint(0,2,100)\n",
    "weight = np.random.randint(40,90,100)\n",
    "height = np.random.randint(150,200,100)"
   ]
  },
  {
   "cell_type": "markdown",
   "metadata": {},
   "source": [
    "### Create a data container\n",
    "Create a data container object using DataContainer(). Use the .add() function to add new data to the container. By specifying the input type and what the data is used for, the data container automatically handles loading from different formats and saving it in the correct data structure. This will build three separate data objects (for features, targets and covariates). "
   ]
  },
  {
   "cell_type": "code",
   "execution_count": 4,
   "metadata": {
    "collapsed": false
   },
   "outputs": [],
   "source": [
    "# Create data object\n",
    "dc = DataContainer()\n",
    "\n",
    "# add features\n",
    "dc.add(data, input_type='numpy', name='my_data', use_as='features')\n",
    "\n",
    "# add targets\n",
    "dc.add(IQ, input_type='numpy', name='IQ', use_as='targets')\n",
    "\n",
    "# add covariates\n",
    "dc.add(age, input_type='numpy', name='age', use_as='covariate')\n",
    "dc.add(gender, input_type='numpy', name='gender', use_as='covariate')"
   ]
  },
  {
   "cell_type": "markdown",
   "metadata": {},
   "source": [
    "### Summaries\n",
    "To get summaries of the data, use the .summary() function either for the whole data container or one of the three data objects.\n",
    "\n",
    "TO DO: Maybe implement a summary function that gives a simpler overview for the data container, i.e. number of variables, shape, and so on..."
   ]
  },
  {
   "cell_type": "code",
   "execution_count": 5,
   "metadata": {
    "collapsed": false
   },
   "outputs": [
    {
     "name": "stdout",
     "output_type": "stream",
     "text": [
      "Features :\n",
      "\n",
      "             0           1           2           3           4           5     \\\n",
      "count  100.000000  100.000000  100.000000  100.000000  100.000000  100.000000   \n",
      "mean     0.500701    0.507193    0.500982    0.499879    0.510912    0.476950   \n",
      "std      0.294265    0.299845    0.299243    0.318515    0.307352    0.280546   \n",
      "min      0.004979    0.002660    0.000491    0.013647    0.015312    0.008887   \n",
      "25%      0.242743    0.243073    0.226596    0.220033    0.218217    0.261960   \n",
      "50%      0.471637    0.529359    0.543967    0.472527    0.475626    0.407187   \n",
      "75%      0.761327    0.758898    0.732873    0.813078    0.801826    0.730163   \n",
      "max      0.997244    0.998911    0.999402    0.991931    0.997855    0.998637   \n",
      "\n",
      "             6           7           8           9        ...            1990  \\\n",
      "count  100.000000  100.000000  100.000000  100.000000     ...      100.000000   \n",
      "mean     0.516416    0.498919    0.541940    0.514799     ...        0.460371   \n",
      "std      0.301779    0.312563    0.291168    0.277509     ...        0.260881   \n",
      "min      0.009588    0.001662    0.013705    0.006277     ...        0.005229   \n",
      "25%      0.242685    0.218849    0.306824    0.305986     ...        0.245112   \n",
      "50%      0.531567    0.461918    0.584879    0.537150     ...        0.433814   \n",
      "75%      0.788788    0.812870    0.793238    0.728864     ...        0.674049   \n",
      "max      0.992755    0.994589    0.984422    0.989667     ...        0.979535   \n",
      "\n",
      "             1991        1992        1993        1994        1995        1996  \\\n",
      "count  100.000000  100.000000  100.000000  100.000000  100.000000  100.000000   \n",
      "mean     0.470320    0.512054    0.530654    0.526843    0.507136    0.523970   \n",
      "std      0.285448    0.308863    0.295776    0.297812    0.272545    0.294493   \n",
      "min      0.027949    0.001139    0.010147    0.022241    0.002889    0.000437   \n",
      "25%      0.220293    0.231614    0.257128    0.260104    0.310110    0.318807   \n",
      "50%      0.437794    0.547319    0.582947    0.561948    0.521488    0.521547   \n",
      "75%      0.730330    0.783877    0.759810    0.771474    0.712136    0.797652   \n",
      "max      0.994977    0.999211    0.999055    0.992161    0.976322    0.998989   \n",
      "\n",
      "             1997        1998        1999  \n",
      "count  100.000000  100.000000  100.000000  \n",
      "mean     0.475418    0.472798    0.533201  \n",
      "std      0.275168    0.278411    0.279072  \n",
      "min      0.003188    0.009215    0.000564  \n",
      "25%      0.207964    0.248155    0.352090  \n",
      "50%      0.499990    0.455722    0.540576  \n",
      "75%      0.676806    0.731781    0.773932  \n",
      "max      0.997506    0.973733    0.992745  \n",
      "\n",
      "[8 rows x 2000 columns]\n",
      "\n",
      "\n",
      "Targets :\n",
      "\n",
      "               IQ\n",
      "count  100.000000\n",
      "mean    99.960000\n",
      "std     16.563877\n",
      "min     70.000000\n",
      "25%     86.750000\n",
      "50%    101.000000\n",
      "75%    113.000000\n",
      "max    129.000000\n",
      "\n",
      "\n",
      "Covariates :\n",
      "\n",
      "       gender\n",
      "count  100.00\n",
      "mean     0.45\n",
      "std      0.50\n",
      "min      0.00\n",
      "25%      0.00\n",
      "50%      0.00\n",
      "75%      1.00\n",
      "max      1.00\n",
      "\n",
      "\n",
      "              age\n",
      "count  100.000000\n",
      "mean    46.850000\n",
      "std     18.478694\n",
      "min     18.000000\n",
      "25%     32.000000\n",
      "50%     46.000000\n",
      "75%     64.000000\n",
      "max     79.000000\n",
      "\n",
      "\n"
     ]
    }
   ],
   "source": [
    "dc.summary()"
   ]
  },
  {
   "cell_type": "code",
   "execution_count": 6,
   "metadata": {
    "collapsed": false
   },
   "outputs": [
    {
     "name": "stdout",
     "output_type": "stream",
     "text": [
      "Targets :\n",
      "\n",
      "               IQ\n",
      "count  100.000000\n",
      "mean    99.960000\n",
      "std     16.563877\n",
      "min     70.000000\n",
      "25%     86.750000\n",
      "50%    101.000000\n",
      "75%    113.000000\n",
      "max    129.000000\n",
      "\n",
      "\n"
     ]
    }
   ],
   "source": [
    "dc.targets.summary()"
   ]
  },
  {
   "cell_type": "markdown",
   "metadata": {},
   "source": [
    "### Access data\n",
    "To access data simply select a specific variable (the data is saved in a dictionary called 'data', the specific variable is within that dictionary under its own name) and use pandas .iloc indexing. To get the data as actual array (not as pandas array), use pandas .as_matrix() method as shown in this example.\n",
    "\n",
    "In the future accessing data and variables might need to be simplified a bit..."
   ]
  },
  {
   "cell_type": "code",
   "execution_count": 11,
   "metadata": {
    "collapsed": false
   },
   "outputs": [
    {
     "name": "stdout",
     "output_type": "stream",
     "text": [
      "       0         1         2         3         4         5         6     \\\n",
      "0  0.098796  0.118214  0.864925  0.558561  0.183244  0.138694  0.566432   \n",
      "4  0.345449  0.842837  0.371190  0.360023  0.192961  0.528998  0.263611   \n",
      "5  0.249701  0.554303  0.706898  0.016218  0.850104  0.164721  0.931956   \n",
      "9  0.176355  0.485849  0.262210  0.812424  0.908076  0.405098  0.755206   \n",
      "\n",
      "       7         8         9       ...         1990      1991      1992  \\\n",
      "0  0.005187  0.140163  0.324155    ...     0.670060  0.861376  0.770222   \n",
      "4  0.577394  0.425395  0.612820    ...     0.534889  0.530402  0.815281   \n",
      "5  0.769586  0.368978  0.311375    ...     0.794888  0.560696  0.397087   \n",
      "9  0.733677  0.522029  0.565354    ...     0.333332  0.884283  0.293187   \n",
      "\n",
      "       1993      1994      1995      1996      1997      1998      1999  \n",
      "0  0.090955  0.963288  0.798535  0.885771  0.984932  0.973733  0.560248  \n",
      "4  0.881087  0.992161  0.266993  0.381911  0.669649  0.606405  0.775730  \n",
      "5  0.407701  0.825603  0.238996  0.980864  0.845461  0.759547  0.822154  \n",
      "9  0.959420  0.358587  0.325504  0.510852  0.618589  0.235166  0.773365  \n",
      "\n",
      "[4 rows x 2000 columns]\n",
      "[[ 0.09879595  0.11821407  0.86492533 ...,  0.98493202  0.97373294\n",
      "   0.56024824]\n",
      " [ 0.34544874  0.84283693  0.3711899  ...,  0.66964942  0.60640539\n",
      "   0.77572993]\n",
      " [ 0.24970147  0.55430334  0.70689848 ...,  0.84546126  0.75954677\n",
      "   0.82215441]\n",
      " [ 0.17635474  0.48584892  0.26220985 ...,  0.61858868  0.23516581\n",
      "   0.77336509]]\n"
     ]
    }
   ],
   "source": [
    "# Access only part of data\n",
    "pandas_array = dc.features.data['my_data'].iloc[[0,4,5,9],:]\n",
    "matrix = dc.features.data['my_data'].iloc[[0,4,5,9],:].as_matrix()\n",
    "print(pandas_array)\n",
    "print(matrix)"
   ]
  },
  {
   "cell_type": "markdown",
   "metadata": {},
   "source": [
    "### Get names of variables\n",
    "Maybe you've forgotten the variable names within your data container. This is how to get them."
   ]
  },
  {
   "cell_type": "code",
   "execution_count": 12,
   "metadata": {
    "collapsed": false
   },
   "outputs": [
    {
     "data": {
      "text/plain": [
       "dict_keys(['gender', 'age'])"
      ]
     },
     "execution_count": 12,
     "metadata": {},
     "output_type": "execute_result"
    }
   ],
   "source": [
    "dc.covariates.get_names()"
   ]
  },
  {
   "cell_type": "markdown",
   "metadata": {},
   "source": [
    "## Loading excel and csv\n",
    "To load excel and csv files, the loading module uses the built-in functions of pandas (read_csv() and read_xls()). Currently the files need to have header to infer variable names. "
   ]
  },
  {
   "cell_type": "code",
   "execution_count": 22,
   "metadata": {
    "collapsed": false
   },
   "outputs": [],
   "source": [
    "# Create some csv or xls file\n",
    "cov = np.concatenate((weight[:,None],height[:,None]), axis=1)\n",
    "file = 'covariates.csv'\n",
    "header = 'Weight,Height'\n",
    "np.savetxt(file, cov, delimiter=\",\", header=header)\n",
    "\n",
    "# again use .add function and specify the input_type\n",
    "# in this case the name is irrelevant, this needs to change in the future \n",
    "dc.add(file, input_type='csv', name='not important', use_as='covariate')"
   ]
  },
  {
   "cell_type": "code",
   "execution_count": 24,
   "metadata": {
    "collapsed": false
   },
   "outputs": [
    {
     "name": "stdout",
     "output_type": "stream",
     "text": [
      "Covariates :\n",
      "\n",
      "           Height\n",
      "count  100.000000\n",
      "mean   175.880000\n",
      "std     14.444096\n",
      "min    150.000000\n",
      "25%    164.000000\n",
      "50%    177.000000\n",
      "75%    187.000000\n",
      "max    199.000000\n",
      "\n",
      "\n",
      "           height\n",
      "count   16.000000\n",
      "mean   180.250000\n",
      "std      8.489209\n",
      "min    170.000000\n",
      "25%    171.750000\n",
      "50%    180.500000\n",
      "75%    190.000000\n",
      "max    192.000000\n",
      "\n",
      "\n",
      "              age\n",
      "count  100.000000\n",
      "mean    46.850000\n",
      "std     18.478694\n",
      "min     18.000000\n",
      "25%     32.000000\n",
      "50%     46.000000\n",
      "75%     64.000000\n",
      "max     79.000000\n",
      "\n",
      "\n",
      "       gender\n",
      "count  100.00\n",
      "mean     0.45\n",
      "std      0.50\n",
      "min      0.00\n",
      "25%      0.00\n",
      "50%      0.00\n",
      "75%      1.00\n",
      "max      1.00\n",
      "\n",
      "\n",
      "         # Weight\n",
      "count  100.000000\n",
      "mean    65.020000\n",
      "std     13.398311\n",
      "min     40.000000\n",
      "25%     54.750000\n",
      "50%     65.000000\n",
      "75%     77.000000\n",
      "max     89.000000\n",
      "\n",
      "\n",
      "          weight\n",
      "count  16.000000\n",
      "mean   66.000000\n",
      "std     4.226898\n",
      "min    60.000000\n",
      "25%    62.000000\n",
      "50%    66.000000\n",
      "75%    70.250000\n",
      "max    72.000000\n",
      "\n",
      "\n"
     ]
    }
   ],
   "source": [
    "dc.covariates.summary()"
   ]
  },
  {
   "cell_type": "code",
   "execution_count": null,
   "metadata": {
    "collapsed": true
   },
   "outputs": [],
   "source": []
  }
 ],
 "metadata": {
  "anaconda-cloud": {},
  "kernelspec": {
   "display_name": "Python 3",
   "language": "python",
   "name": "python3"
  },
  "language_info": {
   "codemirror_mode": {
    "name": "ipython",
    "version": 3
   },
   "file_extension": ".py",
   "mimetype": "text/x-python",
   "name": "python",
   "nbconvert_exporter": "python",
   "pygments_lexer": "ipython3",
   "version": "3.5.2"
  }
 },
 "nbformat": 4,
 "nbformat_minor": 0
}
