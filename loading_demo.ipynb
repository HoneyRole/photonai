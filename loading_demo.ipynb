{
 "cells": [
  {
   "cell_type": "markdown",
   "metadata": {},
   "source": [
    "# Loading Module Demonstration\n",
    "This Jupyter Notebook explains and demonstrates the structure and function of the loading module. In general, the module divides into five basic classes: \n",
    "\n",
    "#### DataContainer()\n",
    "- The DataContainer class implements a data structure to store features, targets and covariates. \n",
    "- The constructor builds these three data objects (see other classes later). \n",
    "- Additionally, the DataContainer class implements basic methods for adding new data to the data container, for printing summaries and so on.\n",
    "\n",
    "#### BaseObject()\n",
    "- The BaseObject class is a meta class that is used as blue print for the features, targets and covariates classes. As a meta class it is only used for inheritance and is not used directly. \n",
    "- It implements the basic structure of the data objects and all methods that these three data object classes share.\n",
    "\n",
    "#### FeaturesObject(BaseObject), TargetsObject(BaseObject), CovariatesObject(BaseObject)\n",
    "- The FeaturesObject inherits from BaseObject. \n",
    "- It builds the data object for the features and overrides some of the methods in order to adapt to special characteristics of the specific class (for covariates variable names are needed, for features not). \n",
    "\n"
   ]
  },
  {
   "cell_type": "markdown",
   "metadata": {},
   "source": [
    "### Load modules"
   ]
  },
  {
   "cell_type": "code",
   "execution_count": 1,
   "metadata": {
    "collapsed": false
   },
   "outputs": [],
   "source": [
    "from loading import DataContainer\n",
    "import numpy as np\n",
    "import pandas as pd\n",
    "%matplotlib inline"
   ]
  },
  {
   "cell_type": "markdown",
   "metadata": {},
   "source": [
    "### Create some fake data"
   ]
  },
  {
   "cell_type": "code",
   "execution_count": 2,
   "metadata": {
    "collapsed": true
   },
   "outputs": [],
   "source": [
    "# Create some data\n",
    "data = np.random.rand(100,2000)\n",
    "IQ = np.random.randint(70,130,100)\n",
    "age = np.random.randint(18,80,100)\n",
    "gender = np.random.randint(0,2,100)\n",
    "weight = np.random.randint(40,90,100)\n",
    "height = np.random.randint(150,200,100)"
   ]
  },
  {
   "cell_type": "markdown",
   "metadata": {},
   "source": [
    "### Create a data container\n",
    "Create a data container object using DataContainer(). Use the .add() function to add new data to the container. By specifying the input type and what the data is used for, the data container automatically handles loading from different formats and saving it in the correct data structure. This will build three separate data objects (for features, targets and covariates). "
   ]
  },
  {
   "cell_type": "code",
   "execution_count": 3,
   "metadata": {
    "collapsed": false
   },
   "outputs": [],
   "source": [
    "# Create data object\n",
    "dc = DataContainer()\n",
    "\n",
    "# add features\n",
    "dc.add(data, input_type='numpy', name='my_data', use_as='features')\n",
    "\n",
    "# add targets\n",
    "dc.add(IQ, input_type='numpy', name='IQ', use_as='targets')\n",
    "\n",
    "# add covariates\n",
    "dc.add(age, input_type='numpy', name='age', use_as='covariate')\n",
    "dc.add(gender, input_type='numpy', name='gender', use_as='covariate')"
   ]
  },
  {
   "cell_type": "markdown",
   "metadata": {},
   "source": [
    "### Summaries\n",
    "To get summaries of the data, use the .summary() function either for the whole data container or one of the three data objects.\n",
    "\n",
    "TO DO: Maybe implement a summary function that gives a simpler overview for the data container, i.e. number of variables, shape, and so on..."
   ]
  },
  {
   "cell_type": "code",
   "execution_count": 4,
   "metadata": {
    "collapsed": false
   },
   "outputs": [
    {
     "name": "stdout",
     "output_type": "stream",
     "text": [
      "Features :\n",
      "\n",
      "             0           1           2           3           4           5     \\\n",
      "count  100.000000  100.000000  100.000000  100.000000  100.000000  100.000000   \n",
      "mean     0.484726    0.508056    0.477522    0.492798    0.535564    0.506962   \n",
      "std      0.285823    0.289320    0.280862    0.322702    0.314045    0.287873   \n",
      "min      0.003120    0.020154    0.003853    0.003619    0.005878    0.004665   \n",
      "25%      0.263248    0.238528    0.230539    0.187344    0.275598    0.276210   \n",
      "50%      0.485645    0.555010    0.456459    0.486866    0.540756    0.527414   \n",
      "75%      0.721184    0.731863    0.727972    0.800129    0.841326    0.737768   \n",
      "max      0.993380    0.983685    0.987809    0.997724    0.997470    0.994423   \n",
      "\n",
      "             6           7           8           9        ...            1990  \\\n",
      "count  100.000000  100.000000  100.000000  100.000000     ...      100.000000   \n",
      "mean     0.492073    0.525814    0.449631    0.495598     ...        0.482784   \n",
      "std      0.294928    0.289241    0.314288    0.276076     ...        0.273509   \n",
      "min      0.007375    0.015761    0.005700    0.002767     ...        0.004806   \n",
      "25%      0.215656    0.285704    0.196340    0.255520     ...        0.269410   \n",
      "50%      0.489078    0.520474    0.369174    0.518219     ...        0.450993   \n",
      "75%      0.727566    0.775137    0.770471    0.726805     ...        0.687148   \n",
      "max      0.995531    0.996969    0.999607    0.988732     ...        0.996441   \n",
      "\n",
      "             1991        1992        1993        1994        1995        1996  \\\n",
      "count  100.000000  100.000000  100.000000  100.000000  100.000000  100.000000   \n",
      "mean     0.473411    0.443919    0.503402    0.475463    0.521185    0.571088   \n",
      "std      0.283775    0.284860    0.286745    0.295209    0.298972    0.286864   \n",
      "min      0.004906    0.011360    0.013072    0.009501    0.012004    0.011427   \n",
      "25%      0.245989    0.175506    0.279432    0.223873    0.248818    0.337162   \n",
      "50%      0.469918    0.407279    0.483044    0.485168    0.556264    0.620100   \n",
      "75%      0.707680    0.682369    0.734088    0.686026    0.800334    0.832977   \n",
      "max      0.987342    0.988627    0.980649    0.990464    0.997245    0.984885   \n",
      "\n",
      "             1997        1998        1999  \n",
      "count  100.000000  100.000000  100.000000  \n",
      "mean     0.548090    0.476164    0.483202  \n",
      "std      0.272780    0.292286    0.301448  \n",
      "min      0.003296    0.014510    0.012121  \n",
      "25%      0.342365    0.250530    0.192624  \n",
      "50%      0.582787    0.430541    0.492122  \n",
      "75%      0.774772    0.685308    0.763040  \n",
      "max      0.997558    0.999748    0.994703  \n",
      "\n",
      "[8 rows x 2000 columns]\n",
      "\n",
      "\n",
      "Targets :\n",
      "\n",
      "               IQ\n",
      "count  100.000000\n",
      "mean    98.430000\n",
      "std     18.357975\n",
      "min     70.000000\n",
      "25%     82.500000\n",
      "50%     98.000000\n",
      "75%    115.250000\n",
      "max    129.000000\n",
      "\n",
      "\n",
      "Covariates :\n",
      "\n",
      "       gender\n",
      "count  100.00\n",
      "mean     0.55\n",
      "std      0.50\n",
      "min      0.00\n",
      "25%      0.00\n",
      "50%      1.00\n",
      "75%      1.00\n",
      "max      1.00\n",
      "\n",
      "\n",
      "             age\n",
      "count  100.00000\n",
      "mean    52.97000\n",
      "std     18.51096\n",
      "min     19.00000\n",
      "25%     37.75000\n",
      "50%     54.50000\n",
      "75%     69.00000\n",
      "max     79.00000\n",
      "\n",
      "\n"
     ]
    }
   ],
   "source": [
    "dc.summary()"
   ]
  },
  {
   "cell_type": "code",
   "execution_count": 5,
   "metadata": {
    "collapsed": false
   },
   "outputs": [
    {
     "name": "stdout",
     "output_type": "stream",
     "text": [
      "Targets :\n",
      "\n",
      "               IQ\n",
      "count  100.000000\n",
      "mean    98.430000\n",
      "std     18.357975\n",
      "min     70.000000\n",
      "25%     82.500000\n",
      "50%     98.000000\n",
      "75%    115.250000\n",
      "max    129.000000\n",
      "\n",
      "\n"
     ]
    }
   ],
   "source": [
    "dc.targets.summary()"
   ]
  },
  {
   "cell_type": "markdown",
   "metadata": {},
   "source": [
    "### Access data\n",
    "To access data simply select a specific variable (the data is saved in a dictionary called 'data', the specific variable is within that dictionary under its own name) and use pandas .iloc indexing. To get the data as actual array (not as pandas array), use pandas .as_matrix() method as shown in this example.\n",
    "\n",
    "In the future accessing data and variables might need to be simplified a bit..."
   ]
  },
  {
   "cell_type": "code",
   "execution_count": 6,
   "metadata": {
    "collapsed": false
   },
   "outputs": [
    {
     "name": "stdout",
     "output_type": "stream",
     "text": [
      "       0         1         2         3         4         5         6     \\\n",
      "0  0.556597  0.210305  0.940698  0.013733  0.352790  0.536781  0.873278   \n",
      "4  0.949723  0.477074  0.642115  0.535315  0.452941  0.452752  0.803612   \n",
      "5  0.148588  0.290260  0.751093  0.648882  0.866956  0.804609  0.825707   \n",
      "9  0.650029  0.957175  0.061037  0.482761  0.594936  0.263470  0.573244   \n",
      "\n",
      "       7         8         9       ...         1990      1991      1992  \\\n",
      "0  0.039877  0.874892  0.861021    ...     0.376978  0.108445  0.622759   \n",
      "4  0.473780  0.954272  0.110748    ...     0.330800  0.798805  0.318103   \n",
      "5  0.456094  0.070324  0.528958    ...     0.989841  0.421299  0.094478   \n",
      "9  0.936150  0.017362  0.465676    ...     0.363650  0.396733  0.244623   \n",
      "\n",
      "       1993      1994      1995      1996      1997      1998      1999  \n",
      "0  0.354296  0.060893  0.440575  0.118024  0.524774  0.353858  0.769785  \n",
      "4  0.312299  0.524718  0.012004  0.458731  0.431186  0.049555  0.827264  \n",
      "5  0.896740  0.207057  0.985964  0.769362  0.609825  0.446593  0.786146  \n",
      "9  0.699980  0.477037  0.025426  0.885552  0.144652  0.428796  0.600002  \n",
      "\n",
      "[4 rows x 2000 columns]\n",
      "[[ 0.5565974   0.21030498  0.94069809 ...,  0.52477407  0.35385775\n",
      "   0.76978502]\n",
      " [ 0.94972288  0.47707379  0.64211454 ...,  0.43118592  0.04955504\n",
      "   0.82726402]\n",
      " [ 0.14858792  0.29025991  0.75109306 ...,  0.60982453  0.44659294\n",
      "   0.78614566]\n",
      " [ 0.65002855  0.95717522  0.06103662 ...,  0.14465203  0.42879599\n",
      "   0.60000226]]\n"
     ]
    }
   ],
   "source": [
    "# Access only part of data\n",
    "pandas_array = dc.features.data['my_data'].iloc[[0,4,5,9],:]\n",
    "matrix = dc.features.data['my_data'].iloc[[0,4,5,9],:].as_matrix()\n",
    "print(pandas_array)\n",
    "print(matrix)"
   ]
  },
  {
   "cell_type": "markdown",
   "metadata": {},
   "source": [
    "### Get names of variables\n",
    "Maybe you've forgotten the variable names within your data container. This is how to get them."
   ]
  },
  {
   "cell_type": "code",
   "execution_count": 7,
   "metadata": {
    "collapsed": false
   },
   "outputs": [
    {
     "data": {
      "text/plain": [
       "dict_keys(['gender', 'age'])"
      ]
     },
     "execution_count": 7,
     "metadata": {},
     "output_type": "execute_result"
    }
   ],
   "source": [
    "dc.covariates.get_names()"
   ]
  },
  {
   "cell_type": "markdown",
   "metadata": {},
   "source": [
    "## Loading excel and csv\n",
    "To load excel and csv files, the loading module uses the built-in functions of pandas (read_csv() and read_xls()). Currently the files need to have header to infer variable names. "
   ]
  },
  {
   "cell_type": "code",
   "execution_count": 8,
   "metadata": {
    "collapsed": false
   },
   "outputs": [],
   "source": [
    "# Create some csv or xls file\n",
    "cov = np.concatenate((weight[:,None],height[:,None]), axis=1)\n",
    "file = 'covariates.csv'\n",
    "header = 'Weight,Height'\n",
    "np.savetxt(file, cov, delimiter=\",\", header=header)\n",
    "\n",
    "# again use .add function and specify the input_type\n",
    "# in this case the name is irrelevant, this needs to change in the future \n",
    "dc.add(file, input_type='csv', name='not important', use_as='covariate')"
   ]
  },
  {
   "cell_type": "code",
   "execution_count": 9,
   "metadata": {
    "collapsed": false
   },
   "outputs": [
    {
     "name": "stdout",
     "output_type": "stream",
     "text": [
      "Covariates :\n",
      "\n",
      "       gender\n",
      "count  100.00\n",
      "mean     0.55\n",
      "std      0.50\n",
      "min      0.00\n",
      "25%      0.00\n",
      "50%      1.00\n",
      "75%      1.00\n",
      "max      1.00\n",
      "\n",
      "\n",
      "             age\n",
      "count  100.00000\n",
      "mean    52.97000\n",
      "std     18.51096\n",
      "min     19.00000\n",
      "25%     37.75000\n",
      "50%     54.50000\n",
      "75%     69.00000\n",
      "max     79.00000\n",
      "\n",
      "\n",
      "           Height\n",
      "count  100.000000\n",
      "mean   174.540000\n",
      "std     14.513261\n",
      "min    150.000000\n",
      "25%    161.750000\n",
      "50%    175.000000\n",
      "75%    188.000000\n",
      "max    198.000000\n",
      "\n",
      "\n",
      "         # Weight\n",
      "count  100.000000\n",
      "mean    63.100000\n",
      "std     14.016224\n",
      "min     40.000000\n",
      "25%     51.000000\n",
      "50%     63.000000\n",
      "75%     75.000000\n",
      "max     87.000000\n",
      "\n",
      "\n"
     ]
    }
   ],
   "source": [
    "dc.covariates.summary()"
   ]
  },
  {
   "cell_type": "markdown",
   "metadata": {
    "collapsed": true
   },
   "source": [
    "## Load .mat-files\n",
    "PHOTON uses the scipy.io module to load mat-files. Currently only works with simple variables within the mat-file. Nested structures are not supported yet. To load a specific mat-file just use the standard .add() function and specify the file and input_type=\"mat\". If there are multiple variables within the mat-file, just pass the parameter var_name with the name of the variable you want to load."
   ]
  },
  {
   "cell_type": "markdown",
   "metadata": {},
   "source": [
    "### Create mat-file first"
   ]
  },
  {
   "cell_type": "code",
   "execution_count": 10,
   "metadata": {
    "collapsed": false
   },
   "outputs": [],
   "source": [
    "import scipy.io as spio\n",
    "_dict = {}\n",
    "_dict['eye_colour'] = np.random.randint(0,3,100)\n",
    "spio.savemat('eyes.mat',_dict)"
   ]
  },
  {
   "cell_type": "markdown",
   "metadata": {},
   "source": [
    "### Now load and add it to our data container "
   ]
  },
  {
   "cell_type": "code",
   "execution_count": 11,
   "metadata": {
    "collapsed": true
   },
   "outputs": [],
   "source": [
    "dc.add('eyes.mat', input_type='mat', name='eye_colour', use_as='targets', var_name='eye_colour')"
   ]
  },
  {
   "cell_type": "code",
   "execution_count": 12,
   "metadata": {
    "collapsed": false
   },
   "outputs": [
    {
     "name": "stdout",
     "output_type": "stream",
     "text": [
      "Targets :\n",
      "\n",
      "               IQ\n",
      "count  100.000000\n",
      "mean    98.430000\n",
      "std     18.357975\n",
      "min     70.000000\n",
      "25%     82.500000\n",
      "50%     98.000000\n",
      "75%    115.250000\n",
      "max    129.000000\n",
      "\n",
      "\n",
      "       eye_colour\n",
      "count  100.000000\n",
      "mean     1.050000\n",
      "std      0.808728\n",
      "min      0.000000\n",
      "25%      0.000000\n",
      "50%      1.000000\n",
      "75%      2.000000\n",
      "max      2.000000\n",
      "\n",
      "\n"
     ]
    }
   ],
   "source": [
    "dc.targets.summary()"
   ]
  },
  {
   "cell_type": "code",
   "execution_count": null,
   "metadata": {
    "collapsed": true
   },
   "outputs": [],
   "source": [
    ""
   ]
  }
 ],
 "metadata": {
  "anaconda-cloud": {},
  "kernelspec": {
   "display_name": "Python [default]",
   "language": "python",
   "name": "python3"
  },
  "language_info": {
   "codemirror_mode": {
    "name": "ipython",
    "version": 3.0
   },
   "file_extension": ".py",
   "mimetype": "text/x-python",
   "name": "python",
   "nbconvert_exporter": "python",
   "pygments_lexer": "ipython3",
   "version": "3.5.2"
  }
 },
 "nbformat": 4,
 "nbformat_minor": 0
}