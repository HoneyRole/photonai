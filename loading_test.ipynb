{
 "cells": [
  {
   "cell_type": "code",
   "execution_count": 1,
   "metadata": {
    "collapsed": false
   },
   "outputs": [],
   "source": [
    "from loading import DataContainer\n",
    "import numpy as np\n",
    "import pandas as pd\n",
    "%matplotlib inline\n",
    "\n",
    "# Create some data\n",
    "data = np.random.rand(100,2000)\n",
    "IQ = np.random.randint(70,130,100)\n",
    "age = np.random.randint(18,80,100)\n",
    "gender = np.random.randint(0,2,100)"
   ]
  },
  {
   "cell_type": "code",
   "execution_count": 2,
   "metadata": {
    "collapsed": false
   },
   "outputs": [],
   "source": [
    "# Create data object\n",
    "df = DataContainer()\n",
    "# add features\n",
    "df.add(data,input_type='numpy', name='my_data', use_as='features')\n",
    "# add targets\n",
    "df.add(IQ,'numpy', 'IQ', use_as='targets')\n",
    "# add covariates\n",
    "df.add(age, 'numpy', 'age', use_as='covariate')\n",
    "df.add(gender, 'numpy', 'gender', use_as='covariate')"
   ]
  },
  {
   "cell_type": "code",
   "execution_count": 3,
   "metadata": {
    "collapsed": false
   },
   "outputs": [
    {
     "name": "stdout",
     "output_type": "stream",
     "text": [
      "Covariates :\n",
      "\n",
      "           gender\n",
      "count  100.000000\n",
      "mean     0.520000\n",
      "std      0.502117\n",
      "min      0.000000\n",
      "25%      0.000000\n",
      "50%      1.000000\n",
      "75%      1.000000\n",
      "max      1.000000\n",
      "\n",
      "\n",
      "              age\n",
      "count  100.000000\n",
      "mean    47.400000\n",
      "std     16.704805\n",
      "min     19.000000\n",
      "25%     31.750000\n",
      "50%     49.000000\n",
      "75%     60.000000\n",
      "max     79.000000\n",
      "\n",
      "\n"
     ]
    }
   ],
   "source": [
    "df.covariates.summary()"
   ]
  },
  {
   "cell_type": "code",
   "execution_count": 4,
   "metadata": {
    "collapsed": false
   },
   "outputs": [
    {
     "name": "stdout",
     "output_type": "stream",
     "text": [
      "Features :\n",
      "\n",
      "             0           1           2           3           4           5     \\\n",
      "count  100.000000  100.000000  100.000000  100.000000  100.000000  100.000000   \n",
      "mean     0.498041    0.541205    0.546810    0.464860    0.528680    0.449593   \n",
      "std      0.275765    0.336110    0.267460    0.293493    0.310221    0.270526   \n",
      "min      0.000137    0.003672    0.024723    0.008184    0.012256    0.027110   \n",
      "25%      0.281227    0.177693    0.329933    0.201273    0.245323    0.208211   \n",
      "50%      0.523260    0.565927    0.572682    0.418737    0.522224    0.451008   \n",
      "75%      0.713385    0.889628    0.756890    0.743251    0.798161    0.672234   \n",
      "max      0.986083    0.998057    0.986881    0.990089    0.994229    0.992821   \n",
      "\n",
      "             6           7           8           9        ...            1990  \\\n",
      "count  100.000000  100.000000  100.000000  100.000000     ...      100.000000   \n",
      "mean     0.524953    0.525648    0.451874    0.453381     ...        0.509855   \n",
      "std      0.290415    0.306454    0.286380    0.290804     ...        0.280332   \n",
      "min      0.014503    0.007264    0.014214    0.006640     ...        0.024831   \n",
      "25%      0.235047    0.252413    0.212852    0.193664     ...        0.260987   \n",
      "50%      0.561086    0.506310    0.428194    0.455399     ...        0.492595   \n",
      "75%      0.771647    0.812734    0.643280    0.697921     ...        0.746711   \n",
      "max      0.999860    0.997930    0.994941    0.993520     ...        0.985762   \n",
      "\n",
      "             1991        1992        1993        1994        1995        1996  \\\n",
      "count  100.000000  100.000000  100.000000  100.000000  100.000000  100.000000   \n",
      "mean     0.519292    0.493947    0.528720    0.489525    0.468581    0.497307   \n",
      "std      0.284648    0.273367    0.292604    0.283405    0.284082    0.289436   \n",
      "min      0.000761    0.020647    0.009784    0.017160    0.001808    0.009605   \n",
      "25%      0.299239    0.263848    0.273949    0.220305    0.239431    0.227749   \n",
      "50%      0.499928    0.478792    0.535944    0.521806    0.432243    0.501669   \n",
      "75%      0.707229    0.683136    0.772737    0.734974    0.728541    0.733400   \n",
      "max      0.994979    0.996303    0.991924    0.970546    0.995067    0.985143   \n",
      "\n",
      "             1997        1998        1999  \n",
      "count  100.000000  100.000000  100.000000  \n",
      "mean     0.540171    0.486178    0.542669  \n",
      "std      0.281018    0.296713    0.250863  \n",
      "min      0.007514    0.011695    0.058308  \n",
      "25%      0.323298    0.225799    0.332724  \n",
      "50%      0.578830    0.508161    0.550736  \n",
      "75%      0.768301    0.744216    0.746555  \n",
      "max      0.993663    0.998287    0.988515  \n",
      "\n",
      "[8 rows x 2000 columns]\n",
      "\n",
      "\n",
      "Targets :\n",
      "\n",
      "               IQ\n",
      "count  100.000000\n",
      "mean    99.190000\n",
      "std     17.260157\n",
      "min     71.000000\n",
      "25%     85.500000\n",
      "50%    101.000000\n",
      "75%    114.000000\n",
      "max    128.000000\n",
      "\n",
      "\n",
      "Covariates :\n",
      "\n",
      "           gender\n",
      "count  100.000000\n",
      "mean     0.520000\n",
      "std      0.502117\n",
      "min      0.000000\n",
      "25%      0.000000\n",
      "50%      1.000000\n",
      "75%      1.000000\n",
      "max      1.000000\n",
      "\n",
      "\n",
      "              age\n",
      "count  100.000000\n",
      "mean    47.400000\n",
      "std     16.704805\n",
      "min     19.000000\n",
      "25%     31.750000\n",
      "50%     49.000000\n",
      "75%     60.000000\n",
      "max     79.000000\n",
      "\n",
      "\n"
     ]
    }
   ],
   "source": [
    "df.summary()"
   ]
  },
  {
   "cell_type": "code",
   "execution_count": 5,
   "metadata": {
    "collapsed": false
   },
   "outputs": [
    {
     "name": "stdout",
     "output_type": "stream",
     "text": [
      "Features        0         1         2         3         4         5         6     \\\n",
      "0  0.420908  0.124560  0.756764  0.573283  0.382426  0.089495  0.990119   \n",
      "4  0.188740  0.963159  0.240401  0.482385  0.623594  0.746589  0.770990   \n",
      "5  0.812945  0.126269  0.700392  0.130835  0.783969  0.298403  0.635959   \n",
      "9  0.526455  0.471093  0.300694  0.196524  0.635060  0.874957  0.347306   \n",
      "\n",
      "       7         8         9       ...         1990      1991      1992  \\\n",
      "0  0.191620  0.082288  0.414858    ...     0.688504  0.422118  0.066355   \n",
      "4  0.914184  0.868519  0.012536    ...     0.805696  0.665463  0.473181   \n",
      "5  0.213002  0.611139  0.214656    ...     0.832660  0.908352  0.530751   \n",
      "9  0.227100  0.074291  0.393655    ...     0.930024  0.429122  0.803838   \n",
      "\n",
      "       1993      1994      1995      1996      1997      1998      1999  \n",
      "0  0.413313  0.697075  0.721191  0.802354  0.916917  0.491624  0.768033  \n",
      "4  0.609059  0.038189  0.202388  0.704129  0.159616  0.867147  0.647547  \n",
      "5  0.066932  0.408955  0.298833  0.473512  0.263492  0.628439  0.252419  \n",
      "9  0.446678  0.123219  0.167749  0.432205  0.203321  0.361579  0.543730  \n",
      "\n",
      "[4 rows x 2000 columns] \n",
      "\n",
      "\n",
      "Gender    gender\n",
      "0       1\n",
      "4       0\n",
      "5       1\n",
      "9       0\n"
     ]
    }
   ],
   "source": [
    "# Access only part of data\n",
    "print('Features', df.features.data['my_data'].iloc[[0,4,5,9],:],'\\n\\n')\n",
    "print('Gender', df.covariates.data['gender'].iloc[[0,4,5,9],:])"
   ]
  },
  {
   "cell_type": "code",
   "execution_count": 6,
   "metadata": {
    "collapsed": false
   },
   "outputs": [
    {
     "name": "stdout",
     "output_type": "stream",
     "text": [
      "dict_keys(['gender', 'age'])\n"
     ]
    }
   ],
   "source": [
    "print(df.covariates.get_names())"
   ]
  },
  {
   "cell_type": "markdown",
   "metadata": {},
   "source": [
    "# Load excel"
   ]
  },
  {
   "cell_type": "markdown",
   "metadata": {
    "collapsed": true
   },
   "source": [
    "Load some more covariates from Excel file"
   ]
  },
  {
   "cell_type": "code",
   "execution_count": 9,
   "metadata": {
    "collapsed": true
   },
   "outputs": [],
   "source": [
    "test = pd.read_csv(file)"
   ]
  },
  {
   "cell_type": "code",
   "execution_count": 11,
   "metadata": {
    "collapsed": false
   },
   "outputs": [],
   "source": [
    "test\n",
    "tmp = {}\n",
    "for key in list(test):\n",
    "    tmp[key] = pd.DataFrame(test[key])"
   ]
  },
  {
   "cell_type": "code",
   "execution_count": 12,
   "metadata": {
    "collapsed": false
   },
   "outputs": [],
   "source": [
    "file = '/home/nils/Desktop/covariates.csv'\n",
    "df.add(file, input_type='csv', name='not important', use_as='covariate')"
   ]
  },
  {
   "cell_type": "code",
   "execution_count": 14,
   "metadata": {
    "collapsed": false
   },
   "outputs": [
    {
     "name": "stdout",
     "output_type": "stream",
     "text": [
      "Covariates :\n",
      "\n",
      "           gender\n",
      "count  100.000000\n",
      "mean     0.520000\n",
      "std      0.502117\n",
      "min      0.000000\n",
      "25%      0.000000\n",
      "50%      1.000000\n",
      "75%      1.000000\n",
      "max      1.000000\n",
      "\n",
      "\n",
      "          weight\n",
      "count  16.000000\n",
      "mean   66.000000\n",
      "std     4.226898\n",
      "min    60.000000\n",
      "25%    62.000000\n",
      "50%    66.000000\n",
      "75%    70.250000\n",
      "max    72.000000\n",
      "\n",
      "\n",
      "              age\n",
      "count  100.000000\n",
      "mean    47.400000\n",
      "std     16.704805\n",
      "min     19.000000\n",
      "25%     31.750000\n",
      "50%     49.000000\n",
      "75%     60.000000\n",
      "max     79.000000\n",
      "\n",
      "\n",
      "           height\n",
      "count   16.000000\n",
      "mean   180.250000\n",
      "std      8.489209\n",
      "min    170.000000\n",
      "25%    171.750000\n",
      "50%    180.500000\n",
      "75%    190.000000\n",
      "max    192.000000\n",
      "\n",
      "\n"
     ]
    }
   ],
   "source": [
    "df.covariates.summary()"
   ]
  },
  {
   "cell_type": "code",
   "execution_count": null,
   "metadata": {
    "collapsed": true
   },
   "outputs": [],
   "source": []
  }
 ],
 "metadata": {
  "anaconda-cloud": {},
  "kernelspec": {
   "display_name": "Python 3",
   "language": "python",
   "name": "python3"
  },
  "language_info": {
   "codemirror_mode": {
    "name": "ipython",
    "version": 3
   },
   "file_extension": ".py",
   "mimetype": "text/x-python",
   "name": "python",
   "nbconvert_exporter": "python",
   "pygments_lexer": "ipython3",
   "version": "3.5.2"
  }
 },
 "nbformat": 4,
 "nbformat_minor": 0
}
