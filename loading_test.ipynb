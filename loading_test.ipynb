{
 "cells": [
  {
   "cell_type": "code",
   "execution_count": 1,
   "metadata": {
    "collapsed": false
   },
   "outputs": [],
   "source": [
    "from loading import DataFrame\n",
    "import numpy as np\n",
    "\n",
    "# Create some data\n",
    "data = np.random.rand(100,2000)\n",
    "IQ = np.random.randint(70,130,100)\n",
    "age = np.random.randint(18,80,100)\n",
    "gender = np.random.randint(0,2,100)"
   ]
  },
  {
   "cell_type": "code",
   "execution_count": 2,
   "metadata": {
    "collapsed": true
   },
   "outputs": [],
   "source": [
    "# Create data object\n",
    "df = DataFrame()\n",
    "# add features\n",
    "df.add(data, 'my_data', use_as='features')\n",
    "# add targets\n",
    "df.add(IQ, 'IQ', use_as='targets')\n",
    "# add covariates\n",
    "df.add(age, 'age', use_as='covariate')\n",
    "df.add(gender, 'gender', use_as='covariate')"
   ]
  },
  {
   "cell_type": "code",
   "execution_count": 3,
   "metadata": {
    "collapsed": false
   },
   "outputs": [
    {
     "name": "stdout",
     "output_type": "stream",
     "text": [
      "Features:\n",
      "\n",
      "my_data with shape (100, 2000)\n",
      "Mean 0.500116806526\n",
      "\n",
      "\n",
      "Targets:\n",
      "\n",
      "IQ with shape (100,)\n",
      "Mean 100.61\n",
      "\n",
      "\n",
      "Covariates:\n",
      "\n",
      "age with shape (100,)\n",
      "Mean 48.2\n",
      "gender with shape (100,)\n",
      "Mean 0.5\n"
     ]
    }
   ],
   "source": [
    "df.summary()"
   ]
  },
  {
   "cell_type": "code",
   "execution_count": 4,
   "metadata": {
    "collapsed": false
   },
   "outputs": [
    {
     "name": "stdout",
     "output_type": "stream",
     "text": [
      "Features [[ 0.28553421  0.33934617  0.05722541 ...,  0.75230437  0.00637979\n",
      "   0.31441742]\n",
      " [ 0.80611199  0.74155118  0.36264244 ...,  0.7475124   0.41959972\n",
      "   0.00891689]\n",
      " [ 0.65124116  0.65167905  0.00269899 ...,  0.8178652   0.32566799\n",
      "   0.36225477]\n",
      " [ 0.21748199  0.26341311  0.22723623 ...,  0.18027297  0.87294122\n",
      "   0.03693563]] \n",
      "\n",
      "\n",
      "Gender [0 1 0 0]\n"
     ]
    }
   ],
   "source": [
    "# Access only part of data\n",
    "print('Features', df.features['my_data'][[0,4,5,9],:],'\\n\\n')\n",
    "print('Gender', df.covariates['gender'][[0,4,5,9]])"
   ]
  },
  {
   "cell_type": "code",
   "execution_count": null,
   "metadata": {
    "collapsed": true
   },
   "outputs": [],
   "source": []
  }
 ],
 "metadata": {
  "kernelspec": {
   "display_name": "Python 3",
   "language": "python",
   "name": "python3"
  },
  "language_info": {
   "codemirror_mode": {
    "name": "ipython",
    "version": 3
   },
   "file_extension": ".py",
   "mimetype": "text/x-python",
   "name": "python",
   "nbconvert_exporter": "python",
   "pygments_lexer": "ipython3",
   "version": "3.6.0"
  }
 },
 "nbformat": 4,
 "nbformat_minor": 2
}
